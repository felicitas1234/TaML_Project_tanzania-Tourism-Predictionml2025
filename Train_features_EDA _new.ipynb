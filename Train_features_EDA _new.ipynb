{
 "cells": [
  {
   "cell_type": "code",
   "execution_count": 44,
   "metadata": {},
   "outputs": [],
   "source": [
    "\n",
    "from sklearn.metrics import roc_auc_score\n",
    "import pandas as pd\n",
    "import numpy as np\n",
    "import warnings\n",
    "warnings.filterwarnings('ignore')\n",
    "import numpy as np\n",
    "import pandas as pd\n",
    "import matplotlib.pyplot as plt\n",
    "import seaborn as sns\n",
    "\n",
    "from sklearn.linear_model import LinearRegression\n",
    "from sklearn.metrics import r2_score\n",
    "\n",
    "from sklearn.model_selection import train_test_split\n",
    "\n",
    "from sklearn.linear_model import LogisticRegression\n",
    "from sklearn.neighbors import KNeighborsClassifier\n",
    "from sklearn.tree import DecisionTreeClassifier\n",
    "from sklearn.ensemble import RandomForestClassifier\n",
    "\n",
    "from sklearn.metrics import accuracy_score\n",
    "from sklearn.metrics import confusion_matrix, classification_report\n",
    "from itertools import product\n",
    "from sklearn.preprocessing import OneHotEncoder\n",
    "import warnings\n",
    "warnings.filterwarnings(\"ignore\")\n",
    "\n",
    "RSEED=42\n",
    "\n"
   ]
  },
  {
   "cell_type": "code",
   "execution_count": 45,
   "metadata": {},
   "outputs": [],
   "source": [
    "df_tanzania=pd.read_csv(\"data/Train.csv\")\n",
    "variable_features=pd.read_csv(\"data/VariableDefinitions.csv\")"
   ]
  },
  {
   "cell_type": "code",
   "execution_count": 46,
   "metadata": {},
   "outputs": [
    {
     "data": {
      "text/html": [
       "<div>\n",
       "<style scoped>\n",
       "    .dataframe tbody tr th:only-of-type {\n",
       "        vertical-align: middle;\n",
       "    }\n",
       "\n",
       "    .dataframe tbody tr th {\n",
       "        vertical-align: top;\n",
       "    }\n",
       "\n",
       "    .dataframe thead th {\n",
       "        text-align: right;\n",
       "    }\n",
       "</style>\n",
       "<table border=\"1\" class=\"dataframe\">\n",
       "  <thead>\n",
       "    <tr style=\"text-align: right;\">\n",
       "      <th></th>\n",
       "      <th>Column Name</th>\n",
       "      <th>Definition</th>\n",
       "    </tr>\n",
       "  </thead>\n",
       "  <tbody>\n",
       "    <tr>\n",
       "      <th>0</th>\n",
       "      <td>id</td>\n",
       "      <td>Unique identifier for each tourist</td>\n",
       "    </tr>\n",
       "    <tr>\n",
       "      <th>1</th>\n",
       "      <td>country</td>\n",
       "      <td>The country a tourist coming  from.</td>\n",
       "    </tr>\n",
       "    <tr>\n",
       "      <th>2</th>\n",
       "      <td>age_group</td>\n",
       "      <td>The age group of a tourist.</td>\n",
       "    </tr>\n",
       "    <tr>\n",
       "      <th>3</th>\n",
       "      <td>travel_with</td>\n",
       "      <td>The relation of people a tourist travel with t...</td>\n",
       "    </tr>\n",
       "    <tr>\n",
       "      <th>4</th>\n",
       "      <td>total_female</td>\n",
       "      <td>Total number of females</td>\n",
       "    </tr>\n",
       "    <tr>\n",
       "      <th>5</th>\n",
       "      <td>total_male</td>\n",
       "      <td>Total number of males</td>\n",
       "    </tr>\n",
       "    <tr>\n",
       "      <th>6</th>\n",
       "      <td>purpose</td>\n",
       "      <td>The purpose of visiting  Tanzania</td>\n",
       "    </tr>\n",
       "    <tr>\n",
       "      <th>7</th>\n",
       "      <td>main_activity</td>\n",
       "      <td>The main activity of tourism in Tanzania</td>\n",
       "    </tr>\n",
       "    <tr>\n",
       "      <th>8</th>\n",
       "      <td>infor_source</td>\n",
       "      <td>The source of information about tourism in Tan...</td>\n",
       "    </tr>\n",
       "    <tr>\n",
       "      <th>9</th>\n",
       "      <td>tour_arrangment</td>\n",
       "      <td>The arrangment of visiting Tanzania</td>\n",
       "    </tr>\n",
       "    <tr>\n",
       "      <th>10</th>\n",
       "      <td>package_transport_int</td>\n",
       "      <td>If the tour package include international tran...</td>\n",
       "    </tr>\n",
       "    <tr>\n",
       "      <th>11</th>\n",
       "      <td>package_accomodation</td>\n",
       "      <td>If the tour package include accommodation service</td>\n",
       "    </tr>\n",
       "    <tr>\n",
       "      <th>12</th>\n",
       "      <td>package_food</td>\n",
       "      <td>If the tour package include food service</td>\n",
       "    </tr>\n",
       "    <tr>\n",
       "      <th>13</th>\n",
       "      <td>package_transport_tz</td>\n",
       "      <td>If the tour package include transport service ...</td>\n",
       "    </tr>\n",
       "    <tr>\n",
       "      <th>14</th>\n",
       "      <td>package_sightseeing</td>\n",
       "      <td>If the tour package include sightseeing service</td>\n",
       "    </tr>\n",
       "    <tr>\n",
       "      <th>15</th>\n",
       "      <td>package_guided_tour</td>\n",
       "      <td>If the tour package include tour guide</td>\n",
       "    </tr>\n",
       "    <tr>\n",
       "      <th>16</th>\n",
       "      <td>package_insurance</td>\n",
       "      <td>if the tour package include insurance service</td>\n",
       "    </tr>\n",
       "    <tr>\n",
       "      <th>17</th>\n",
       "      <td>night_mainland</td>\n",
       "      <td>Number of nights a tourist spent in Tanzania m...</td>\n",
       "    </tr>\n",
       "    <tr>\n",
       "      <th>18</th>\n",
       "      <td>night_zanzibar</td>\n",
       "      <td>Number of nights a tourist spent in Zanzibar</td>\n",
       "    </tr>\n",
       "    <tr>\n",
       "      <th>19</th>\n",
       "      <td>payment_mode</td>\n",
       "      <td>The mode of payment for tourism service</td>\n",
       "    </tr>\n",
       "    <tr>\n",
       "      <th>20</th>\n",
       "      <td>first_trip_tz</td>\n",
       "      <td>If it was a first  trip to Tanzania</td>\n",
       "    </tr>\n",
       "    <tr>\n",
       "      <th>21</th>\n",
       "      <td>most_impressing</td>\n",
       "      <td>what impressed a toursit in Tanzania</td>\n",
       "    </tr>\n",
       "    <tr>\n",
       "      <th>22</th>\n",
       "      <td>total_cost</td>\n",
       "      <td>The total tourist expenditure  in TZS(currency)</td>\n",
       "    </tr>\n",
       "  </tbody>\n",
       "</table>\n",
       "</div>"
      ],
      "text/plain": [
       "              Column Name                                         Definition\n",
       "0                      id                 Unique identifier for each tourist\n",
       "1                 country                The country a tourist coming  from.\n",
       "2               age_group                        The age group of a tourist.\n",
       "3             travel_with  The relation of people a tourist travel with t...\n",
       "4            total_female                            Total number of females\n",
       "5              total_male                              Total number of males\n",
       "6                 purpose                  The purpose of visiting  Tanzania\n",
       "7           main_activity           The main activity of tourism in Tanzania\n",
       "8            infor_source  The source of information about tourism in Tan...\n",
       "9         tour_arrangment                The arrangment of visiting Tanzania\n",
       "10  package_transport_int  If the tour package include international tran...\n",
       "11   package_accomodation  If the tour package include accommodation service\n",
       "12           package_food           If the tour package include food service\n",
       "13   package_transport_tz  If the tour package include transport service ...\n",
       "14    package_sightseeing    If the tour package include sightseeing service\n",
       "15    package_guided_tour             If the tour package include tour guide\n",
       "16      package_insurance      if the tour package include insurance service\n",
       "17         night_mainland  Number of nights a tourist spent in Tanzania m...\n",
       "18         night_zanzibar       Number of nights a tourist spent in Zanzibar\n",
       "19           payment_mode            The mode of payment for tourism service\n",
       "20          first_trip_tz                If it was a first  trip to Tanzania\n",
       "21        most_impressing               what impressed a toursit in Tanzania\n",
       "22             total_cost    The total tourist expenditure  in TZS(currency)"
      ]
     },
     "execution_count": 46,
     "metadata": {},
     "output_type": "execute_result"
    }
   ],
   "source": [
    "variable_features"
   ]
  },
  {
   "cell_type": "code",
   "execution_count": 47,
   "metadata": {},
   "outputs": [],
   "source": [
    "X = df_tanzania.drop(['total_cost','ID'],axis=1)\n",
    "y = df_tanzania.total_cost"
   ]
  },
  {
   "cell_type": "code",
   "execution_count": 48,
   "metadata": {},
   "outputs": [],
   "source": [
    "X_train,X_test,y_train,y_test = train_test_split(X,y,test_size=0.25,random_state=42)"
   ]
  },
  {
   "cell_type": "code",
   "execution_count": 49,
   "metadata": {},
   "outputs": [],
   "source": [
    "#X_test = test_features.drop('total_cost',axis=1)\n",
    "\n",
    "#y_test = test_features.total_cost\n",
    "\n"
   ]
  },
  {
   "cell_type": "code",
   "execution_count": 50,
   "metadata": {},
   "outputs": [
    {
     "data": {
      "text/plain": [
       "ID                          0\n",
       "country                     0\n",
       "age_group                   0\n",
       "travel_with              1114\n",
       "total_female                3\n",
       "total_male                  5\n",
       "purpose                     0\n",
       "main_activity               0\n",
       "info_source                 0\n",
       "tour_arrangement            0\n",
       "package_transport_int       0\n",
       "package_accomodation        0\n",
       "package_food                0\n",
       "package_transport_tz        0\n",
       "package_sightseeing         0\n",
       "package_guided_tour         0\n",
       "package_insurance           0\n",
       "night_mainland              0\n",
       "night_zanzibar              0\n",
       "payment_mode                0\n",
       "first_trip_tz               0\n",
       "most_impressing           313\n",
       "total_cost                  0\n",
       "dtype: int64"
      ]
     },
     "execution_count": 50,
     "metadata": {},
     "output_type": "execute_result"
    }
   ],
   "source": [
    "df_tanzania.isnull().sum()"
   ]
  },
  {
   "cell_type": "code",
   "execution_count": 51,
   "metadata": {},
   "outputs": [
    {
     "data": {
      "text/plain": [
       "country                    0\n",
       "age_group                  0\n",
       "travel_with              833\n",
       "total_female               1\n",
       "total_male                 4\n",
       "purpose                    0\n",
       "main_activity              0\n",
       "info_source                0\n",
       "tour_arrangement           0\n",
       "package_transport_int      0\n",
       "package_accomodation       0\n",
       "package_food               0\n",
       "package_transport_tz       0\n",
       "package_sightseeing        0\n",
       "package_guided_tour        0\n",
       "package_insurance          0\n",
       "night_mainland             0\n",
       "night_zanzibar             0\n",
       "payment_mode               0\n",
       "first_trip_tz              0\n",
       "most_impressing          226\n",
       "dtype: int64"
      ]
     },
     "execution_count": 51,
     "metadata": {},
     "output_type": "execute_result"
    }
   ],
   "source": [
    "X_train.isnull().sum()"
   ]
  },
  {
   "cell_type": "code",
   "execution_count": 52,
   "metadata": {},
   "outputs": [
    {
     "data": {
      "text/plain": [
       "0"
      ]
     },
     "execution_count": 52,
     "metadata": {},
     "output_type": "execute_result"
    }
   ],
   "source": [
    "df_tanzania.duplicated().sum()\n"
   ]
  },
  {
   "cell_type": "code",
   "execution_count": 53,
   "metadata": {},
   "outputs": [
    {
     "name": "stdout",
     "output_type": "stream",
     "text": [
      "<class 'pandas.core.frame.DataFrame'>\n",
      "RangeIndex: 4809 entries, 0 to 4808\n",
      "Data columns (total 23 columns):\n",
      " #   Column                 Non-Null Count  Dtype  \n",
      "---  ------                 --------------  -----  \n",
      " 0   ID                     4809 non-null   object \n",
      " 1   country                4809 non-null   object \n",
      " 2   age_group              4809 non-null   object \n",
      " 3   travel_with            3695 non-null   object \n",
      " 4   total_female           4806 non-null   float64\n",
      " 5   total_male             4804 non-null   float64\n",
      " 6   purpose                4809 non-null   object \n",
      " 7   main_activity          4809 non-null   object \n",
      " 8   info_source            4809 non-null   object \n",
      " 9   tour_arrangement       4809 non-null   object \n",
      " 10  package_transport_int  4809 non-null   object \n",
      " 11  package_accomodation   4809 non-null   object \n",
      " 12  package_food           4809 non-null   object \n",
      " 13  package_transport_tz   4809 non-null   object \n",
      " 14  package_sightseeing    4809 non-null   object \n",
      " 15  package_guided_tour    4809 non-null   object \n",
      " 16  package_insurance      4809 non-null   object \n",
      " 17  night_mainland         4809 non-null   float64\n",
      " 18  night_zanzibar         4809 non-null   float64\n",
      " 19  payment_mode           4809 non-null   object \n",
      " 20  first_trip_tz          4809 non-null   object \n",
      " 21  most_impressing        4496 non-null   object \n",
      " 22  total_cost             4809 non-null   float64\n",
      "dtypes: float64(5), object(18)\n",
      "memory usage: 864.2+ KB\n"
     ]
    }
   ],
   "source": [
    "df_tanzania.info()"
   ]
  },
  {
   "cell_type": "code",
   "execution_count": 54,
   "metadata": {},
   "outputs": [
    {
     "name": "stdout",
     "output_type": "stream",
     "text": [
      "unique: country                  [SOUTH AFRICA, KENYA, POLAND, IRELAND, UNITED ...\n",
      "age_group                                        [25-44, 1-24, 45-64, 65+]\n",
      "travel_with              [nan, Spouse and Children, Spouse, Friends/Rel...\n",
      "total_female             [0.0, 2.0, 1.0, 4.0, 6.0, 3.0, 7.0, 5.0, 10.0,...\n",
      "total_male               [1.0, 2.0, 0.0, 3.0, 4.0, 5.0, 6.0, nan, 9.0, ...\n",
      "purpose                  [Meetings and Conference, Leisure and Holidays...\n",
      "main_activity            [Wildlife tourism, Beach tourism, Hunting tour...\n",
      "info_source              [Friends, relatives, Radio, TV, Web, Travel, a...\n",
      "tour_arrangement                               [Independent, Package Tour]\n",
      "package_transport_int                                            [No, Yes]\n",
      "package_accomodation                                             [No, Yes]\n",
      "package_food                                                     [No, Yes]\n",
      "package_transport_tz                                             [No, Yes]\n",
      "package_sightseeing                                              [No, Yes]\n",
      "package_guided_tour                                              [No, Yes]\n",
      "package_insurance                                                [No, Yes]\n",
      "night_mainland           [2.0, 0.0, 3.0, 7.0, 6.0, 10.0, 14.0, 4.0, 12....\n",
      "night_zanzibar           [0.0, 12.0, 6.0, 7.0, 9.0, 3.0, 4.0, 15.0, 10....\n",
      "payment_mode                 [Credit Card, Cash, Travellers Cheque, Other]\n",
      "first_trip_tz                                                    [No, Yes]\n",
      "most_impressing          [Friendly People,  Wildlife, Wonderful Country...\n",
      "dtype: object\n"
     ]
    }
   ],
   "source": [
    "unique_values = X_train.apply(lambda col: col.unique())\n",
    "print('unique:',unique_values)"
   ]
  },
  {
   "cell_type": "code",
   "execution_count": 55,
   "metadata": {},
   "outputs": [],
   "source": [
    "unique_values.to_csv('data/unique_Value_train_features.csv')"
   ]
  },
  {
   "cell_type": "code",
   "execution_count": 56,
   "metadata": {},
   "outputs": [
    {
     "data": {
      "text/plain": [
       "(3606, 21)"
      ]
     },
     "execution_count": 56,
     "metadata": {},
     "output_type": "execute_result"
    }
   ],
   "source": [
    "X_train.shape"
   ]
  },
  {
   "cell_type": "code",
   "execution_count": 57,
   "metadata": {},
   "outputs": [
    {
     "data": {
      "text/plain": [
       "49.0"
      ]
     },
     "execution_count": 57,
     "metadata": {},
     "output_type": "execute_result"
    }
   ],
   "source": [
    "X_train['total_female'].max()"
   ]
  },
  {
   "cell_type": "code",
   "execution_count": 58,
   "metadata": {},
   "outputs": [
    {
     "data": {
      "text/plain": [
       "1.0"
      ]
     },
     "execution_count": 58,
     "metadata": {},
     "output_type": "execute_result"
    }
   ],
   "source": [
    "X_train['total_female'].mean().round()"
   ]
  },
  {
   "cell_type": "code",
   "execution_count": 59,
   "metadata": {},
   "outputs": [],
   "source": [
    "X_train['total_female'].fillna(round(X_train['total_female'].mean()), inplace=True)"
   ]
  },
  {
   "cell_type": "code",
   "execution_count": 60,
   "metadata": {},
   "outputs": [
    {
     "data": {
      "text/plain": [
       "0"
      ]
     },
     "execution_count": 60,
     "metadata": {},
     "output_type": "execute_result"
    }
   ],
   "source": [
    "X_train['total_female']\n",
    "X_train['total_female'].isnull().sum()"
   ]
  },
  {
   "cell_type": "code",
   "execution_count": 61,
   "metadata": {},
   "outputs": [
    {
     "data": {
      "text/plain": [
       "0"
      ]
     },
     "execution_count": 61,
     "metadata": {},
     "output_type": "execute_result"
    }
   ],
   "source": [
    "X_train['total_male'].fillna(round(X_train['total_male'].mean()), inplace=True)\n",
    "X_train['total_male'].isnull().sum()"
   ]
  },
  {
   "cell_type": "code",
   "execution_count": 62,
   "metadata": {},
   "outputs": [
    {
     "data": {
      "image/png": "[encoded data removed]",
      "text/plain": [
       "<Figure size 640x480 with 1 Axes>"
      ]
     },
     "metadata": {},
     "output_type": "display_data"
    }
   ],
   "source": [
    "#travel_with\n",
    "sns.histplot(X_train.travel_with)\n",
    "plt.show()"
   ]
  },
  {
   "cell_type": "code",
   "execution_count": 63,
   "metadata": {},
   "outputs": [
    {
     "data": {
      "image/png": "[encoded data removed]",
      "text/plain": [
       "<Figure size 640x480 with 1 Axes>"
      ]
     },
     "metadata": {},
     "output_type": "display_data"
    }
   ],
   "source": [
    "#most_impressing\n",
    "sns.histplot(X_train.most_impressing)\n",
    "plt.show()"
   ]
  },
  {
   "cell_type": "code",
   "execution_count": 67,
   "metadata": {},
   "outputs": [
    {
     "data": {
      "text/html": [
       "<div>\n",
       "<style scoped>\n",
       "    .dataframe tbody tr th:only-of-type {\n",
       "        vertical-align: middle;\n",
       "    }\n",
       "\n",
       "    .dataframe tbody tr th {\n",
       "        vertical-align: top;\n",
       "    }\n",
       "\n",
       "    .dataframe thead th {\n",
       "        text-align: right;\n",
       "    }\n",
       "</style>\n",
       "<table border=\"1\" class=\"dataframe\">\n",
       "  <thead>\n",
       "    <tr style=\"text-align: right;\">\n",
       "      <th></th>\n",
       "      <th>country</th>\n",
       "      <th>age_group</th>\n",
       "      <th>travel_with</th>\n",
       "      <th>total_female</th>\n",
       "      <th>total_male</th>\n",
       "      <th>purpose</th>\n",
       "      <th>main_activity</th>\n",
       "      <th>info_source</th>\n",
       "      <th>tour_arrangement</th>\n",
       "      <th>package_transport_int</th>\n",
       "      <th>...</th>\n",
       "      <th>package_food</th>\n",
       "      <th>package_transport_tz</th>\n",
       "      <th>package_sightseeing</th>\n",
       "      <th>package_guided_tour</th>\n",
       "      <th>package_insurance</th>\n",
       "      <th>night_mainland</th>\n",
       "      <th>night_zanzibar</th>\n",
       "      <th>payment_mode</th>\n",
       "      <th>first_trip_tz</th>\n",
       "      <th>most_impressing</th>\n",
       "    </tr>\n",
       "  </thead>\n",
       "  <tbody>\n",
       "    <tr>\n",
       "      <th>3075</th>\n",
       "      <td>SOUTH AFRICA</td>\n",
       "      <td>25-44</td>\n",
       "      <td>NaN</td>\n",
       "      <td>0.0</td>\n",
       "      <td>1.0</td>\n",
       "      <td>Meetings and Conference</td>\n",
       "      <td>Wildlife tourism</td>\n",
       "      <td>Friends, relatives</td>\n",
       "      <td>Independent</td>\n",
       "      <td>No</td>\n",
       "      <td>...</td>\n",
       "      <td>No</td>\n",
       "      <td>No</td>\n",
       "      <td>No</td>\n",
       "      <td>No</td>\n",
       "      <td>No</td>\n",
       "      <td>2.0</td>\n",
       "      <td>0.0</td>\n",
       "      <td>Credit Card</td>\n",
       "      <td>No</td>\n",
       "      <td>Friendly People</td>\n",
       "    </tr>\n",
       "    <tr>\n",
       "      <th>2915</th>\n",
       "      <td>KENYA</td>\n",
       "      <td>25-44</td>\n",
       "      <td>Spouse and Children</td>\n",
       "      <td>2.0</td>\n",
       "      <td>2.0</td>\n",
       "      <td>Leisure and Holidays</td>\n",
       "      <td>Beach tourism</td>\n",
       "      <td>Friends, relatives</td>\n",
       "      <td>Independent</td>\n",
       "      <td>No</td>\n",
       "      <td>...</td>\n",
       "      <td>No</td>\n",
       "      <td>No</td>\n",
       "      <td>No</td>\n",
       "      <td>No</td>\n",
       "      <td>No</td>\n",
       "      <td>0.0</td>\n",
       "      <td>12.0</td>\n",
       "      <td>Cash</td>\n",
       "      <td>Yes</td>\n",
       "      <td>Friendly People</td>\n",
       "    </tr>\n",
       "    <tr>\n",
       "      <th>2304</th>\n",
       "      <td>POLAND</td>\n",
       "      <td>1-24</td>\n",
       "      <td>Spouse</td>\n",
       "      <td>1.0</td>\n",
       "      <td>1.0</td>\n",
       "      <td>Leisure and Holidays</td>\n",
       "      <td>Beach tourism</td>\n",
       "      <td>Radio, TV, Web</td>\n",
       "      <td>Independent</td>\n",
       "      <td>No</td>\n",
       "      <td>...</td>\n",
       "      <td>No</td>\n",
       "      <td>No</td>\n",
       "      <td>No</td>\n",
       "      <td>No</td>\n",
       "      <td>No</td>\n",
       "      <td>3.0</td>\n",
       "      <td>6.0</td>\n",
       "      <td>Cash</td>\n",
       "      <td>Yes</td>\n",
       "      <td>Wildlife</td>\n",
       "    </tr>\n",
       "    <tr>\n",
       "      <th>1196</th>\n",
       "      <td>IRELAND</td>\n",
       "      <td>45-64</td>\n",
       "      <td>Friends/Relatives</td>\n",
       "      <td>0.0</td>\n",
       "      <td>2.0</td>\n",
       "      <td>Business</td>\n",
       "      <td>Wildlife tourism</td>\n",
       "      <td>Radio, TV, Web</td>\n",
       "      <td>Independent</td>\n",
       "      <td>No</td>\n",
       "      <td>...</td>\n",
       "      <td>No</td>\n",
       "      <td>No</td>\n",
       "      <td>No</td>\n",
       "      <td>No</td>\n",
       "      <td>No</td>\n",
       "      <td>2.0</td>\n",
       "      <td>0.0</td>\n",
       "      <td>Credit Card</td>\n",
       "      <td>Yes</td>\n",
       "      <td>Friendly People</td>\n",
       "    </tr>\n",
       "    <tr>\n",
       "      <th>620</th>\n",
       "      <td>UNITED KINGDOM</td>\n",
       "      <td>45-64</td>\n",
       "      <td>NaN</td>\n",
       "      <td>1.0</td>\n",
       "      <td>0.0</td>\n",
       "      <td>Volunteering</td>\n",
       "      <td>Hunting tourism</td>\n",
       "      <td>Travel, agent, tour operator</td>\n",
       "      <td>Independent</td>\n",
       "      <td>No</td>\n",
       "      <td>...</td>\n",
       "      <td>No</td>\n",
       "      <td>No</td>\n",
       "      <td>No</td>\n",
       "      <td>No</td>\n",
       "      <td>No</td>\n",
       "      <td>3.0</td>\n",
       "      <td>0.0</td>\n",
       "      <td>Cash</td>\n",
       "      <td>No</td>\n",
       "      <td>Friendly People</td>\n",
       "    </tr>\n",
       "  </tbody>\n",
       "</table>\n",
       "<p>5 rows × 21 columns</p>\n",
       "</div>"
      ],
      "text/plain": [
       "             country age_group          travel_with  total_female  total_male   \n",
       "3075    SOUTH AFRICA     25-44                  NaN           0.0         1.0  \\\n",
       "2915           KENYA     25-44  Spouse and Children           2.0         2.0   \n",
       "2304          POLAND      1-24               Spouse           1.0         1.0   \n",
       "1196         IRELAND     45-64    Friends/Relatives           0.0         2.0   \n",
       "620   UNITED KINGDOM     45-64                  NaN           1.0         0.0   \n",
       "\n",
       "                      purpose     main_activity                   info_source   \n",
       "3075  Meetings and Conference  Wildlife tourism            Friends, relatives  \\\n",
       "2915     Leisure and Holidays     Beach tourism            Friends, relatives   \n",
       "2304     Leisure and Holidays     Beach tourism                Radio, TV, Web   \n",
       "1196                 Business  Wildlife tourism                Radio, TV, Web   \n",
       "620              Volunteering   Hunting tourism  Travel, agent, tour operator   \n",
       "\n",
       "     tour_arrangement package_transport_int  ... package_food   \n",
       "3075      Independent                    No  ...           No  \\\n",
       "2915      Independent                    No  ...           No   \n",
       "2304      Independent                    No  ...           No   \n",
       "1196      Independent                    No  ...           No   \n",
       "620       Independent                    No  ...           No   \n",
       "\n",
       "     package_transport_tz package_sightseeing package_guided_tour   \n",
       "3075                   No                  No                  No  \\\n",
       "2915                   No                  No                  No   \n",
       "2304                   No                  No                  No   \n",
       "1196                   No                  No                  No   \n",
       "620                    No                  No                  No   \n",
       "\n",
       "     package_insurance night_mainland  night_zanzibar  payment_mode   \n",
       "3075                No            2.0             0.0   Credit Card  \\\n",
       "2915                No            0.0            12.0          Cash   \n",
       "2304                No            3.0             6.0          Cash   \n",
       "1196                No            2.0             0.0   Credit Card   \n",
       "620                 No            3.0             0.0          Cash   \n",
       "\n",
       "     first_trip_tz  most_impressing  \n",
       "3075            No  Friendly People  \n",
       "2915           Yes  Friendly People  \n",
       "2304           Yes         Wildlife  \n",
       "1196           Yes  Friendly People  \n",
       "620             No  Friendly People  \n",
       "\n",
       "[5 rows x 21 columns]"
      ]
     },
     "execution_count": 67,
     "metadata": {},
     "output_type": "execute_result"
    }
   ],
   "source": [
    "X_train.head()"
   ]
  },
  {
   "cell_type": "code",
   "execution_count": 73,
   "metadata": {},
   "outputs": [
    {
     "data": {
      "text/plain": [
       "<Axes: >"
      ]
     },
     "execution_count": 73,
     "metadata": {},
     "output_type": "execute_result"
    },
    {
     "data": {
      "image/png": "[encoded data removed]",
      "text/plain": [
       "<Figure size 640x480 with 1 Axes>"
      ]
     },
     "metadata": {},
     "output_type": "display_data"
    }
   ],
   "source": [
    "sns.boxplot(X_train)"
   ]
  },
  {
   "cell_type": "code",
   "execution_count": 72,
   "metadata": {},
   "outputs": [
    {
     "data": {
      "text/plain": [
       "<Axes: ylabel='night_zanzibar'>"
      ]
     },
     "execution_count": 72,
     "metadata": {},
     "output_type": "execute_result"
    },
    {
     "data": {
      "image/png": "[encoded data removed]",
      "text/plain": [
       "<Figure size 640x480 with 1 Axes>"
      ]
     },
     "metadata": {},
     "output_type": "display_data"
    }
   ],
   "source": [
    "\n",
    "sns.boxplot(X_train, y ='night_zanzibar')"
   ]
  },
  {
   "cell_type": "code",
   "execution_count": null,
   "metadata": {},
   "outputs": [
    {
     "data": {
      "text/plain": [
       "<Axes: ylabel='night_mainland'>"
      ]
     },
     "execution_count": 71,
     "metadata": {},
     "output_type": "execute_result"
    },
    {
     "data": {
      "image/png": "[encoded data removed]",
      "text/plain": [
       "<Figure size 640x480 with 1 Axes>"
      ]
     },
     "metadata": {},
     "output_type": "display_data"
    }
   ],
   "source": [
    "sns.boxplot(X_train, y ='night_mainland')\n"
   ]
  },
  {
   "cell_type": "code",
   "execution_count": 66,
   "metadata": {},
   "outputs": [
    {
     "data": {
      "text/plain": [
       "<seaborn.axisgrid.PairGrid at 0x1e20b521650>"
      ]
     },
     "execution_count": 66,
     "metadata": {},
     "output_type": "execute_result"
    },
    {
     "data": {
      "image/png": "[encoded data removed]",
      "text/plain": [
       "<Figure size 1000x1000 with 20 Axes>"
      ]
     },
     "metadata": {},
     "output_type": "display_data"
    }
   ],
   "source": [
    "sns.pairplot(X_train)"
   ]
  },
  {
   "cell_type": "code",
   "execution_count": 21,
   "metadata": {},
   "outputs": [
    {
     "data": {
      "text/plain": [
       "Index(['country', 'age_group', 'travel_with', 'total_female', 'total_male',\n",
       "       'purpose', 'main_activity', 'info_source', 'tour_arrangement',\n",
       "       'package_transport_int', 'package_accomodation', 'package_food',\n",
       "       'package_transport_tz', 'package_sightseeing', 'package_guided_tour',\n",
       "       'package_insurance', 'night_mainland', 'night_zanzibar', 'payment_mode',\n",
       "       'first_trip_tz', 'most_impressing'],\n",
       "      dtype='object')"
      ]
     },
     "execution_count": 21,
     "metadata": {},
     "output_type": "execute_result"
    }
   ],
   "source": [
    "X_train.columns"
   ]
  },
  {
   "cell_type": "code",
   "execution_count": 22,
   "metadata": {},
   "outputs": [],
   "source": [
    "#Encoding\n",
    "col_encode = ['country', 'age_group', 'travel_with', 'purpose', 'main_activity', 'info_source', 'tour_arrangement','payment_mode', 'most_impressing']\n",
    "col_map = ['package_transport_int', 'package_accomodation', 'package_food','package_transport_tz', 'package_sightseeing', 'package_guided_tour','package_insurance','first_trip_tz',]\n"
   ]
  },
  {
   "cell_type": "code",
   "execution_count": 23,
   "metadata": {},
   "outputs": [
    {
     "name": "stdout",
     "output_type": "stream",
     "text": [
      "                       country age_group          travel_with  total_female   \n",
      "3075              SOUTH AFRICA     25-44                  NaN           0.0  \\\n",
      "2915                     KENYA     25-44  Spouse and Children           2.0   \n",
      "2304                    POLAND      1-24               Spouse           1.0   \n",
      "1196                   IRELAND     45-64    Friends/Relatives           0.0   \n",
      "620             UNITED KINGDOM     45-64                  NaN           1.0   \n",
      "...                        ...       ...                  ...           ...   \n",
      "4426                    UGANDA     25-44                  NaN           0.0   \n",
      "466             UNITED KINGDOM     45-64    Friends/Relatives           6.0   \n",
      "3092                     KENYA     45-64                  NaN           0.0   \n",
      "3772                  ZIMBABWE     25-44                Alone           0.0   \n",
      "860   UNITED STATES OF AMERICA       65+               Spouse           1.0   \n",
      "\n",
      "      total_male                         purpose      main_activity   \n",
      "3075         1.0         Meetings and Conference   Wildlife tourism  \\\n",
      "2915         2.0            Leisure and Holidays      Beach tourism   \n",
      "2304         1.0            Leisure and Holidays      Beach tourism   \n",
      "1196         2.0                        Business   Wildlife tourism   \n",
      "620          0.0                    Volunteering    Hunting tourism   \n",
      "...          ...                             ...                ...   \n",
      "4426         1.0         Meetings and Conference  Mountain climbing   \n",
      "466          6.0  Visiting Friends and Relatives    Hunting tourism   \n",
      "3092         1.0            Leisure and Holidays   Cultural tourism   \n",
      "3772         1.0                           Other    Hunting tourism   \n",
      "860          1.0            Leisure and Holidays   Wildlife tourism   \n",
      "\n",
      "                       info_source tour_arrangement  package_transport_int   \n",
      "3075            Friends, relatives      Independent                      0  \\\n",
      "2915            Friends, relatives      Independent                      0   \n",
      "2304                Radio, TV, Web      Independent                      0   \n",
      "1196                Radio, TV, Web      Independent                      0   \n",
      "620   Travel, agent, tour operator      Independent                      0   \n",
      "...                            ...              ...                    ...   \n",
      "4426            Friends, relatives      Independent                      0   \n",
      "466   Travel, agent, tour operator     Package Tour                      1   \n",
      "3092            Friends, relatives      Independent                      0   \n",
      "3772            Friends, relatives      Independent                      0   \n",
      "860   Travel, agent, tour operator     Package Tour                      1   \n",
      "\n",
      "      ...  package_food  package_transport_tz  package_sightseeing   \n",
      "3075  ...             0                     0                    0  \\\n",
      "2915  ...             0                     0                    0   \n",
      "2304  ...             0                     0                    0   \n",
      "1196  ...             0                     0                    0   \n",
      "620   ...             0                     0                    0   \n",
      "...   ...           ...                   ...                  ...   \n",
      "4426  ...             0                     0                    0   \n",
      "466   ...             1                     1                    1   \n",
      "3092  ...             0                     0                    0   \n",
      "3772  ...             0                     0                    0   \n",
      "860   ...             1                     1                    1   \n",
      "\n",
      "      package_guided_tour  package_insurance  night_mainland  night_zanzibar   \n",
      "3075                    0                  0             2.0             0.0  \\\n",
      "2915                    0                  0             0.0            12.0   \n",
      "2304                    0                  0             3.0             6.0   \n",
      "1196                    0                  0             2.0             0.0   \n",
      "620                     0                  0             3.0             0.0   \n",
      "...                   ...                ...             ...             ...   \n",
      "4426                    0                  0            60.0             0.0   \n",
      "466                     1                  0             7.0             0.0   \n",
      "3092                    0                  0            10.0             0.0   \n",
      "3772                    0                  0             1.0             0.0   \n",
      "860                     1                  0             6.0             0.0   \n",
      "\n",
      "      payment_mode first_trip_tz       most_impressing  \n",
      "3075   Credit Card             0       Friendly People  \n",
      "2915          Cash             1       Friendly People  \n",
      "2304          Cash             1              Wildlife  \n",
      "1196   Credit Card             1       Friendly People  \n",
      "620           Cash             0       Friendly People  \n",
      "...            ...           ...                   ...  \n",
      "4426          Cash             1  Excellent Experience  \n",
      "466           Cash             0       Friendly People  \n",
      "3092          Cash             1       Friendly People  \n",
      "3772          Cash             0                   NaN  \n",
      "860           Cash             0              Wildlife  \n",
      "\n",
      "[3606 rows x 21 columns]\n"
     ]
    }
   ],
   "source": [
    "# Replace 'yes' with 1 and 'no' with 0 in specified columns \n",
    "X_train[col_map] = X_train[col_map].replace({'Yes': 1, 'No': 0}) \n",
    "print(X_train)"
   ]
  },
  {
   "cell_type": "code",
   "execution_count": 24,
   "metadata": {},
   "outputs": [
    {
     "data": {
      "text/html": [
       "<div>\n",
       "<style scoped>\n",
       "    .dataframe tbody tr th:only-of-type {\n",
       "        vertical-align: middle;\n",
       "    }\n",
       "\n",
       "    .dataframe tbody tr th {\n",
       "        vertical-align: top;\n",
       "    }\n",
       "\n",
       "    .dataframe thead th {\n",
       "        text-align: right;\n",
       "    }\n",
       "</style>\n",
       "<table border=\"1\" class=\"dataframe\">\n",
       "  <thead>\n",
       "    <tr style=\"text-align: right;\">\n",
       "      <th></th>\n",
       "      <th>total_female</th>\n",
       "      <th>total_male</th>\n",
       "      <th>package_transport_int</th>\n",
       "      <th>package_accomodation</th>\n",
       "      <th>package_food</th>\n",
       "      <th>package_transport_tz</th>\n",
       "      <th>package_sightseeing</th>\n",
       "      <th>package_guided_tour</th>\n",
       "      <th>package_insurance</th>\n",
       "      <th>night_mainland</th>\n",
       "      <th>night_zanzibar</th>\n",
       "      <th>first_trip_tz</th>\n",
       "    </tr>\n",
       "  </thead>\n",
       "  <tbody>\n",
       "    <tr>\n",
       "      <th>total_female</th>\n",
       "      <td>1.000000</td>\n",
       "      <td>0.514951</td>\n",
       "      <td>0.170134</td>\n",
       "      <td>0.178035</td>\n",
       "      <td>0.159722</td>\n",
       "      <td>0.159895</td>\n",
       "      <td>0.133845</td>\n",
       "      <td>0.130751</td>\n",
       "      <td>0.102355</td>\n",
       "      <td>0.028757</td>\n",
       "      <td>0.141290</td>\n",
       "      <td>0.152758</td>\n",
       "    </tr>\n",
       "    <tr>\n",
       "      <th>total_male</th>\n",
       "      <td>0.514951</td>\n",
       "      <td>1.000000</td>\n",
       "      <td>0.092182</td>\n",
       "      <td>0.036991</td>\n",
       "      <td>0.021783</td>\n",
       "      <td>0.031980</td>\n",
       "      <td>0.028054</td>\n",
       "      <td>0.017208</td>\n",
       "      <td>0.038437</td>\n",
       "      <td>-0.041586</td>\n",
       "      <td>0.048440</td>\n",
       "      <td>0.026907</td>\n",
       "    </tr>\n",
       "    <tr>\n",
       "      <th>package_transport_int</th>\n",
       "      <td>0.170134</td>\n",
       "      <td>0.092182</td>\n",
       "      <td>1.000000</td>\n",
       "      <td>0.670450</td>\n",
       "      <td>0.615050</td>\n",
       "      <td>0.588055</td>\n",
       "      <td>0.415581</td>\n",
       "      <td>0.416156</td>\n",
       "      <td>0.474883</td>\n",
       "      <td>-0.115652</td>\n",
       "      <td>0.228680</td>\n",
       "      <td>0.261320</td>\n",
       "    </tr>\n",
       "    <tr>\n",
       "      <th>package_accomodation</th>\n",
       "      <td>0.178035</td>\n",
       "      <td>0.036991</td>\n",
       "      <td>0.670450</td>\n",
       "      <td>1.000000</td>\n",
       "      <td>0.926280</td>\n",
       "      <td>0.856207</td>\n",
       "      <td>0.698337</td>\n",
       "      <td>0.724267</td>\n",
       "      <td>0.445421</td>\n",
       "      <td>-0.073064</td>\n",
       "      <td>0.135713</td>\n",
       "      <td>0.400472</td>\n",
       "    </tr>\n",
       "    <tr>\n",
       "      <th>package_food</th>\n",
       "      <td>0.159722</td>\n",
       "      <td>0.021783</td>\n",
       "      <td>0.615050</td>\n",
       "      <td>0.926280</td>\n",
       "      <td>1.000000</td>\n",
       "      <td>0.826437</td>\n",
       "      <td>0.662631</td>\n",
       "      <td>0.701006</td>\n",
       "      <td>0.446895</td>\n",
       "      <td>-0.082787</td>\n",
       "      <td>0.122729</td>\n",
       "      <td>0.383350</td>\n",
       "    </tr>\n",
       "    <tr>\n",
       "      <th>package_transport_tz</th>\n",
       "      <td>0.159895</td>\n",
       "      <td>0.031980</td>\n",
       "      <td>0.588055</td>\n",
       "      <td>0.856207</td>\n",
       "      <td>0.826437</td>\n",
       "      <td>1.000000</td>\n",
       "      <td>0.689453</td>\n",
       "      <td>0.698002</td>\n",
       "      <td>0.443974</td>\n",
       "      <td>-0.058969</td>\n",
       "      <td>0.101221</td>\n",
       "      <td>0.374713</td>\n",
       "    </tr>\n",
       "    <tr>\n",
       "      <th>package_sightseeing</th>\n",
       "      <td>0.133845</td>\n",
       "      <td>0.028054</td>\n",
       "      <td>0.415581</td>\n",
       "      <td>0.698337</td>\n",
       "      <td>0.662631</td>\n",
       "      <td>0.689453</td>\n",
       "      <td>1.000000</td>\n",
       "      <td>0.788207</td>\n",
       "      <td>0.385619</td>\n",
       "      <td>0.014182</td>\n",
       "      <td>-0.009303</td>\n",
       "      <td>0.324582</td>\n",
       "    </tr>\n",
       "    <tr>\n",
       "      <th>package_guided_tour</th>\n",
       "      <td>0.130751</td>\n",
       "      <td>0.017208</td>\n",
       "      <td>0.416156</td>\n",
       "      <td>0.724267</td>\n",
       "      <td>0.701006</td>\n",
       "      <td>0.698002</td>\n",
       "      <td>0.788207</td>\n",
       "      <td>1.000000</td>\n",
       "      <td>0.432193</td>\n",
       "      <td>-0.007543</td>\n",
       "      <td>0.000886</td>\n",
       "      <td>0.350292</td>\n",
       "    </tr>\n",
       "    <tr>\n",
       "      <th>package_insurance</th>\n",
       "      <td>0.102355</td>\n",
       "      <td>0.038437</td>\n",
       "      <td>0.474883</td>\n",
       "      <td>0.445421</td>\n",
       "      <td>0.446895</td>\n",
       "      <td>0.443974</td>\n",
       "      <td>0.385619</td>\n",
       "      <td>0.432193</td>\n",
       "      <td>1.000000</td>\n",
       "      <td>-0.067193</td>\n",
       "      <td>0.120316</td>\n",
       "      <td>0.215047</td>\n",
       "    </tr>\n",
       "    <tr>\n",
       "      <th>night_mainland</th>\n",
       "      <td>0.028757</td>\n",
       "      <td>-0.041586</td>\n",
       "      <td>-0.115652</td>\n",
       "      <td>-0.073064</td>\n",
       "      <td>-0.082787</td>\n",
       "      <td>-0.058969</td>\n",
       "      <td>0.014182</td>\n",
       "      <td>-0.007543</td>\n",
       "      <td>-0.067193</td>\n",
       "      <td>1.000000</td>\n",
       "      <td>-0.115445</td>\n",
       "      <td>-0.003543</td>\n",
       "    </tr>\n",
       "    <tr>\n",
       "      <th>night_zanzibar</th>\n",
       "      <td>0.141290</td>\n",
       "      <td>0.048440</td>\n",
       "      <td>0.228680</td>\n",
       "      <td>0.135713</td>\n",
       "      <td>0.122729</td>\n",
       "      <td>0.101221</td>\n",
       "      <td>-0.009303</td>\n",
       "      <td>0.000886</td>\n",
       "      <td>0.120316</td>\n",
       "      <td>-0.115445</td>\n",
       "      <td>1.000000</td>\n",
       "      <td>0.154173</td>\n",
       "    </tr>\n",
       "    <tr>\n",
       "      <th>first_trip_tz</th>\n",
       "      <td>0.152758</td>\n",
       "      <td>0.026907</td>\n",
       "      <td>0.261320</td>\n",
       "      <td>0.400472</td>\n",
       "      <td>0.383350</td>\n",
       "      <td>0.374713</td>\n",
       "      <td>0.324582</td>\n",
       "      <td>0.350292</td>\n",
       "      <td>0.215047</td>\n",
       "      <td>-0.003543</td>\n",
       "      <td>0.154173</td>\n",
       "      <td>1.000000</td>\n",
       "    </tr>\n",
       "  </tbody>\n",
       "</table>\n",
       "</div>"
      ],
      "text/plain": [
       "                       total_female  total_male  package_transport_int   \n",
       "total_female               1.000000    0.514951               0.170134  \\\n",
       "total_male                 0.514951    1.000000               0.092182   \n",
       "package_transport_int      0.170134    0.092182               1.000000   \n",
       "package_accomodation       0.178035    0.036991               0.670450   \n",
       "package_food               0.159722    0.021783               0.615050   \n",
       "package_transport_tz       0.159895    0.031980               0.588055   \n",
       "package_sightseeing        0.133845    0.028054               0.415581   \n",
       "package_guided_tour        0.130751    0.017208               0.416156   \n",
       "package_insurance          0.102355    0.038437               0.474883   \n",
       "night_mainland             0.028757   -0.041586              -0.115652   \n",
       "night_zanzibar             0.141290    0.048440               0.228680   \n",
       "first_trip_tz              0.152758    0.026907               0.261320   \n",
       "\n",
       "                       package_accomodation  package_food   \n",
       "total_female                       0.178035      0.159722  \\\n",
       "total_male                         0.036991      0.021783   \n",
       "package_transport_int              0.670450      0.615050   \n",
       "package_accomodation               1.000000      0.926280   \n",
       "package_food                       0.926280      1.000000   \n",
       "package_transport_tz               0.856207      0.826437   \n",
       "package_sightseeing                0.698337      0.662631   \n",
       "package_guided_tour                0.724267      0.701006   \n",
       "package_insurance                  0.445421      0.446895   \n",
       "night_mainland                    -0.073064     -0.082787   \n",
       "night_zanzibar                     0.135713      0.122729   \n",
       "first_trip_tz                      0.400472      0.383350   \n",
       "\n",
       "                       package_transport_tz  package_sightseeing   \n",
       "total_female                       0.159895             0.133845  \\\n",
       "total_male                         0.031980             0.028054   \n",
       "package_transport_int              0.588055             0.415581   \n",
       "package_accomodation               0.856207             0.698337   \n",
       "package_food                       0.826437             0.662631   \n",
       "package_transport_tz               1.000000             0.689453   \n",
       "package_sightseeing                0.689453             1.000000   \n",
       "package_guided_tour                0.698002             0.788207   \n",
       "package_insurance                  0.443974             0.385619   \n",
       "night_mainland                    -0.058969             0.014182   \n",
       "night_zanzibar                     0.101221            -0.009303   \n",
       "first_trip_tz                      0.374713             0.324582   \n",
       "\n",
       "                       package_guided_tour  package_insurance  night_mainland   \n",
       "total_female                      0.130751           0.102355        0.028757  \\\n",
       "total_male                        0.017208           0.038437       -0.041586   \n",
       "package_transport_int             0.416156           0.474883       -0.115652   \n",
       "package_accomodation              0.724267           0.445421       -0.073064   \n",
       "package_food                      0.701006           0.446895       -0.082787   \n",
       "package_transport_tz              0.698002           0.443974       -0.058969   \n",
       "package_sightseeing               0.788207           0.385619        0.014182   \n",
       "package_guided_tour               1.000000           0.432193       -0.007543   \n",
       "package_insurance                 0.432193           1.000000       -0.067193   \n",
       "night_mainland                   -0.007543          -0.067193        1.000000   \n",
       "night_zanzibar                    0.000886           0.120316       -0.115445   \n",
       "first_trip_tz                     0.350292           0.215047       -0.003543   \n",
       "\n",
       "                       night_zanzibar  first_trip_tz  \n",
       "total_female                 0.141290       0.152758  \n",
       "total_male                   0.048440       0.026907  \n",
       "package_transport_int        0.228680       0.261320  \n",
       "package_accomodation         0.135713       0.400472  \n",
       "package_food                 0.122729       0.383350  \n",
       "package_transport_tz         0.101221       0.374713  \n",
       "package_sightseeing         -0.009303       0.324582  \n",
       "package_guided_tour          0.000886       0.350292  \n",
       "package_insurance            0.120316       0.215047  \n",
       "night_mainland              -0.115445      -0.003543  \n",
       "night_zanzibar               1.000000       0.154173  \n",
       "first_trip_tz                0.154173       1.000000  "
      ]
     },
     "execution_count": 24,
     "metadata": {},
     "output_type": "execute_result"
    }
   ],
   "source": [
    "X_train.corr(numeric_only = True)"
   ]
  },
  {
   "cell_type": "code",
   "execution_count": 34,
   "metadata": {},
   "outputs": [],
   "source": [
    "#OneHotEncoder\n",
    "ohe = OneHotEncoder(drop='first', sparse_output=False, handle_unknown='ignore')"
   ]
  },
  {
   "cell_type": "code",
   "execution_count": 35,
   "metadata": {},
   "outputs": [],
   "source": [
    "#Encoding\n",
    "col_encode = ['country', 'age_group', 'travel_with', 'purpose', 'main_activity', 'info_source', 'tour_arrangement','payment_mode', 'most_impressing']\n",
    "X_train[col_encode].nunique() \n",
    "ohe.fit(X_train[col_encode]) \n",
    "t = ohe.transform(X_train[col_encode])\n"
   ]
  },
  {
   "cell_type": "code",
   "execution_count": 36,
   "metadata": {},
   "outputs": [
    {
     "data": {
      "text/plain": [
       "array(['country_ANGOLA', 'country_ARGENTINA', 'country_AUSTRALIA',\n",
       "       'country_AUSTRIA', 'country_BELGIUM', 'country_BERMUDA',\n",
       "       'country_BRAZIL', 'country_BURGARIA', 'country_BURUNDI',\n",
       "       'country_CANADA', 'country_CAPE VERDE', 'country_CHILE',\n",
       "       'country_CHINA', 'country_COLOMBIA', 'country_COMORO',\n",
       "       'country_CONGO', 'country_COSTARICA', 'country_CROATIA',\n",
       "       'country_CYPRUS', 'country_CZECH REPUBLIC', 'country_DENMARK',\n",
       "       'country_DJIBOUT', 'country_DOMINICA', 'country_DRC',\n",
       "       'country_EGYPT', 'country_ESTONIA', 'country_ETHIOPIA',\n",
       "       'country_FINLAND', 'country_FRANCE', 'country_GEORGIA',\n",
       "       'country_GERMANY', 'country_GHANA', 'country_GREECE',\n",
       "       'country_HUNGARY', 'country_INDIA', 'country_INDONESIA',\n",
       "       'country_IRAN', 'country_IRAQ', 'country_IRELAND',\n",
       "       'country_ISRAEL', 'country_ITALY', 'country_IVORY COAST',\n",
       "       'country_JAPAN', 'country_KENYA', 'country_KOREA',\n",
       "       'country_KUWAIT', 'country_LATVIA', 'country_LEBANON',\n",
       "       'country_LESOTHO', 'country_LITHUANIA', 'country_LUXEMBOURG',\n",
       "       'country_MALAWI', 'country_MALAYSIA', 'country_MALT',\n",
       "       'country_MAURITIUS', 'country_MEXICO', 'country_MONTENEGRO',\n",
       "       'country_MORROCO', 'country_MOZAMBIQUE', 'country_NAMIBIA',\n",
       "       'country_NEPAL', 'country_NETHERLANDS', 'country_NEW ZEALAND',\n",
       "       'country_NIGER', 'country_NIGERIA', 'country_NORWAY',\n",
       "       'country_OMAN', 'country_PAKISTAN', 'country_PHILIPINES',\n",
       "       'country_POLAND', 'country_PORTUGAL', 'country_QATAR',\n",
       "       'country_ROMANIA', 'country_RUSSIA', 'country_RWANDA',\n",
       "       'country_SCOTLAND', 'country_SERBIA', 'country_SINGAPORE',\n",
       "       'country_SLOVAKIA', 'country_SLOVENIA', 'country_SOUTH AFRICA',\n",
       "       'country_SPAIN', 'country_SRI LANKA', 'country_SUDAN',\n",
       "       'country_SWAZILAND', 'country_SWEDEN', 'country_SWIZERLAND',\n",
       "       'country_TAIWAN', 'country_THAILAND', 'country_TRINIDAD TOBACCO',\n",
       "       'country_TURKEY', 'country_UAE', 'country_UGANDA',\n",
       "       'country_UKRAIN', 'country_UNITED ARAB EMIRATES',\n",
       "       'country_UNITED KINGDOM', 'country_UNITED STATES OF AMERICA',\n",
       "       'country_URUGUAY', 'country_YEMEN', 'country_ZAMBIA',\n",
       "       'country_ZIMBABWE', 'age_group_25-44', 'age_group_45-64',\n",
       "       'age_group_65+', 'travel_with_Children',\n",
       "       'travel_with_Friends/Relatives', 'travel_with_Spouse',\n",
       "       'travel_with_Spouse and Children', 'travel_with_nan',\n",
       "       'purpose_Leisure and Holidays', 'purpose_Meetings and Conference',\n",
       "       'purpose_Other', 'purpose_Scientific and Academic',\n",
       "       'purpose_Visiting Friends and Relatives', 'purpose_Volunteering',\n",
       "       'main_activity_Bird watching', 'main_activity_Conference tourism',\n",
       "       'main_activity_Cultural tourism',\n",
       "       'main_activity_Diving and Sport Fishing',\n",
       "       'main_activity_Hunting tourism', 'main_activity_Mountain climbing',\n",
       "       'main_activity_Wildlife tourism', 'main_activity_business',\n",
       "       'info_source_Newspaper, magazines,brochures',\n",
       "       'info_source_Radio, TV, Web',\n",
       "       'info_source_Tanzania Mission Abroad', 'info_source_Trade fair',\n",
       "       'info_source_Travel, agent, tour operator',\n",
       "       'info_source_inflight magazines', 'info_source_others',\n",
       "       'tour_arrangement_Package Tour', 'payment_mode_Credit Card',\n",
       "       'payment_mode_Other', 'payment_mode_Travellers Cheque',\n",
       "       'most_impressing_Excellent Experience',\n",
       "       'most_impressing_Friendly People', 'most_impressing_Good service',\n",
       "       'most_impressing_No comments',\n",
       "       'most_impressing_Satisfies and Hope Come Back',\n",
       "       'most_impressing_Wonderful Country, Landscape, Nature',\n",
       "       'most_impressing_nan'], dtype=object)"
      ]
     },
     "execution_count": 36,
     "metadata": {},
     "output_type": "execute_result"
    }
   ],
   "source": [
    "ohe.get_feature_names_out() "
   ]
  },
  {
   "cell_type": "code",
   "execution_count": 37,
   "metadata": {},
   "outputs": [
    {
     "data": {
      "text/html": [
       "<div>\n",
       "<style scoped>\n",
       "    .dataframe tbody tr th:only-of-type {\n",
       "        vertical-align: middle;\n",
       "    }\n",
       "\n",
       "    .dataframe tbody tr th {\n",
       "        vertical-align: top;\n",
       "    }\n",
       "\n",
       "    .dataframe thead th {\n",
       "        text-align: right;\n",
       "    }\n",
       "</style>\n",
       "<table border=\"1\" class=\"dataframe\">\n",
       "  <thead>\n",
       "    <tr style=\"text-align: right;\">\n",
       "      <th></th>\n",
       "      <th>country</th>\n",
       "      <th>age_group</th>\n",
       "      <th>travel_with</th>\n",
       "      <th>total_female</th>\n",
       "      <th>total_male</th>\n",
       "      <th>purpose</th>\n",
       "      <th>main_activity</th>\n",
       "      <th>info_source</th>\n",
       "      <th>tour_arrangement</th>\n",
       "      <th>package_transport_int</th>\n",
       "      <th>...</th>\n",
       "      <th>package_food</th>\n",
       "      <th>package_transport_tz</th>\n",
       "      <th>package_sightseeing</th>\n",
       "      <th>package_guided_tour</th>\n",
       "      <th>package_insurance</th>\n",
       "      <th>night_mainland</th>\n",
       "      <th>night_zanzibar</th>\n",
       "      <th>payment_mode</th>\n",
       "      <th>first_trip_tz</th>\n",
       "      <th>most_impressing</th>\n",
       "    </tr>\n",
       "  </thead>\n",
       "  <tbody>\n",
       "    <tr>\n",
       "      <th>3075</th>\n",
       "      <td>SOUTH AFRICA</td>\n",
       "      <td>25-44</td>\n",
       "      <td>NaN</td>\n",
       "      <td>0.0</td>\n",
       "      <td>1.0</td>\n",
       "      <td>Meetings and Conference</td>\n",
       "      <td>Wildlife tourism</td>\n",
       "      <td>Friends, relatives</td>\n",
       "      <td>Independent</td>\n",
       "      <td>0</td>\n",
       "      <td>...</td>\n",
       "      <td>0</td>\n",
       "      <td>0</td>\n",
       "      <td>0</td>\n",
       "      <td>0</td>\n",
       "      <td>0</td>\n",
       "      <td>2.0</td>\n",
       "      <td>0.0</td>\n",
       "      <td>Credit Card</td>\n",
       "      <td>0</td>\n",
       "      <td>Friendly People</td>\n",
       "    </tr>\n",
       "    <tr>\n",
       "      <th>2915</th>\n",
       "      <td>KENYA</td>\n",
       "      <td>25-44</td>\n",
       "      <td>Spouse and Children</td>\n",
       "      <td>2.0</td>\n",
       "      <td>2.0</td>\n",
       "      <td>Leisure and Holidays</td>\n",
       "      <td>Beach tourism</td>\n",
       "      <td>Friends, relatives</td>\n",
       "      <td>Independent</td>\n",
       "      <td>0</td>\n",
       "      <td>...</td>\n",
       "      <td>0</td>\n",
       "      <td>0</td>\n",
       "      <td>0</td>\n",
       "      <td>0</td>\n",
       "      <td>0</td>\n",
       "      <td>0.0</td>\n",
       "      <td>12.0</td>\n",
       "      <td>Cash</td>\n",
       "      <td>1</td>\n",
       "      <td>Friendly People</td>\n",
       "    </tr>\n",
       "    <tr>\n",
       "      <th>2304</th>\n",
       "      <td>POLAND</td>\n",
       "      <td>1-24</td>\n",
       "      <td>Spouse</td>\n",
       "      <td>1.0</td>\n",
       "      <td>1.0</td>\n",
       "      <td>Leisure and Holidays</td>\n",
       "      <td>Beach tourism</td>\n",
       "      <td>Radio, TV, Web</td>\n",
       "      <td>Independent</td>\n",
       "      <td>0</td>\n",
       "      <td>...</td>\n",
       "      <td>0</td>\n",
       "      <td>0</td>\n",
       "      <td>0</td>\n",
       "      <td>0</td>\n",
       "      <td>0</td>\n",
       "      <td>3.0</td>\n",
       "      <td>6.0</td>\n",
       "      <td>Cash</td>\n",
       "      <td>1</td>\n",
       "      <td>Wildlife</td>\n",
       "    </tr>\n",
       "    <tr>\n",
       "      <th>1196</th>\n",
       "      <td>IRELAND</td>\n",
       "      <td>45-64</td>\n",
       "      <td>Friends/Relatives</td>\n",
       "      <td>0.0</td>\n",
       "      <td>2.0</td>\n",
       "      <td>Business</td>\n",
       "      <td>Wildlife tourism</td>\n",
       "      <td>Radio, TV, Web</td>\n",
       "      <td>Independent</td>\n",
       "      <td>0</td>\n",
       "      <td>...</td>\n",
       "      <td>0</td>\n",
       "      <td>0</td>\n",
       "      <td>0</td>\n",
       "      <td>0</td>\n",
       "      <td>0</td>\n",
       "      <td>2.0</td>\n",
       "      <td>0.0</td>\n",
       "      <td>Credit Card</td>\n",
       "      <td>1</td>\n",
       "      <td>Friendly People</td>\n",
       "    </tr>\n",
       "    <tr>\n",
       "      <th>620</th>\n",
       "      <td>UNITED KINGDOM</td>\n",
       "      <td>45-64</td>\n",
       "      <td>NaN</td>\n",
       "      <td>1.0</td>\n",
       "      <td>0.0</td>\n",
       "      <td>Volunteering</td>\n",
       "      <td>Hunting tourism</td>\n",
       "      <td>Travel, agent, tour operator</td>\n",
       "      <td>Independent</td>\n",
       "      <td>0</td>\n",
       "      <td>...</td>\n",
       "      <td>0</td>\n",
       "      <td>0</td>\n",
       "      <td>0</td>\n",
       "      <td>0</td>\n",
       "      <td>0</td>\n",
       "      <td>3.0</td>\n",
       "      <td>0.0</td>\n",
       "      <td>Cash</td>\n",
       "      <td>0</td>\n",
       "      <td>Friendly People</td>\n",
       "    </tr>\n",
       "  </tbody>\n",
       "</table>\n",
       "<p>5 rows × 21 columns</p>\n",
       "</div>"
      ],
      "text/plain": [
       "             country age_group          travel_with  total_female  total_male   \n",
       "3075    SOUTH AFRICA     25-44                  NaN           0.0         1.0  \\\n",
       "2915           KENYA     25-44  Spouse and Children           2.0         2.0   \n",
       "2304          POLAND      1-24               Spouse           1.0         1.0   \n",
       "1196         IRELAND     45-64    Friends/Relatives           0.0         2.0   \n",
       "620   UNITED KINGDOM     45-64                  NaN           1.0         0.0   \n",
       "\n",
       "                      purpose     main_activity                   info_source   \n",
       "3075  Meetings and Conference  Wildlife tourism            Friends, relatives  \\\n",
       "2915     Leisure and Holidays     Beach tourism            Friends, relatives   \n",
       "2304     Leisure and Holidays     Beach tourism                Radio, TV, Web   \n",
       "1196                 Business  Wildlife tourism                Radio, TV, Web   \n",
       "620              Volunteering   Hunting tourism  Travel, agent, tour operator   \n",
       "\n",
       "     tour_arrangement  package_transport_int  ...  package_food   \n",
       "3075      Independent                      0  ...             0  \\\n",
       "2915      Independent                      0  ...             0   \n",
       "2304      Independent                      0  ...             0   \n",
       "1196      Independent                      0  ...             0   \n",
       "620       Independent                      0  ...             0   \n",
       "\n",
       "      package_transport_tz  package_sightseeing  package_guided_tour   \n",
       "3075                     0                    0                    0  \\\n",
       "2915                     0                    0                    0   \n",
       "2304                     0                    0                    0   \n",
       "1196                     0                    0                    0   \n",
       "620                      0                    0                    0   \n",
       "\n",
       "      package_insurance  night_mainland  night_zanzibar  payment_mode   \n",
       "3075                  0             2.0             0.0   Credit Card  \\\n",
       "2915                  0             0.0            12.0          Cash   \n",
       "2304                  0             3.0             6.0          Cash   \n",
       "1196                  0             2.0             0.0   Credit Card   \n",
       "620                   0             3.0             0.0          Cash   \n",
       "\n",
       "     first_trip_tz  most_impressing  \n",
       "3075             0  Friendly People  \n",
       "2915             1  Friendly People  \n",
       "2304             1         Wildlife  \n",
       "1196             1  Friendly People  \n",
       "620              0  Friendly People  \n",
       "\n",
       "[5 rows x 21 columns]"
      ]
     },
     "execution_count": 37,
     "metadata": {},
     "output_type": "execute_result"
    }
   ],
   "source": [
    "X_train.head()"
   ]
  },
  {
   "cell_type": "code",
   "execution_count": null,
   "metadata": {},
   "outputs": [],
   "source": [
    "# Purpose: It generates the new feature names created during one-hot encoding, reflecting the original categorical feature and its unique values.\n",
    "ohe.get_feature_names_out() \n",
    "x_train_encode = pd.DataFrame(t, columns= ohe.get_feature_names_out())\n",
    "x_train_encode.head()\n",
    "# introduced into the frame\n",
    "X_train = pd.concat([X_train.reset_index(drop=True), x_train_encode], axis=1)\n",
    "X_train.drop(columns=col_encode,inplace=True)\n"
   ]
  },
  {
   "cell_type": "code",
   "execution_count": 43,
   "metadata": {},
   "outputs": [
    {
     "data": {
      "text/plain": [
       "(3606, 153)"
      ]
     },
     "execution_count": 43,
     "metadata": {},
     "output_type": "execute_result"
    }
   ],
   "source": [
    "X_train.head()\n",
    "X_train.shape"
   ]
  },
  {
   "cell_type": "code",
   "execution_count": null,
   "metadata": {},
   "outputs": [],
   "source": []
  }
 ],
 "metadata": {
  "kernelspec": {
   "display_name": ".venv",
   "language": "python",
   "name": "python3"
  },
  "language_info": {
   "codemirror_mode": {
    "name": "ipython",
    "version": 3
   },
   "file_extension": ".py",
   "mimetype": "text/x-python",
   "name": "python",
   "nbconvert_exporter": "python",
   "pygments_lexer": "ipython3",
   "version": "3.11.3"
  }
 },
 "nbformat": 4,
 "nbformat_minor": 4
}
