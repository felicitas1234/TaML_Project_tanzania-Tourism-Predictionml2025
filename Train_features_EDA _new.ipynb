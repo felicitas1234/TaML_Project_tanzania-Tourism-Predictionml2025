{
 "cells": [
  {
   "cell_type": "code",
   "execution_count": 71,
   "metadata": {},
   "outputs": [],
   "source": [
    "\n",
    "from sklearn.metrics import roc_auc_score\n",
    "import pandas as pd\n",
    "import numpy as np\n",
    "import warnings\n",
    "warnings.filterwarnings('ignore')\n",
    "import numpy as np\n",
    "import pandas as pd\n",
    "import matplotlib.pyplot as plt\n",
    "import seaborn as sns\n",
    "\n",
    "from sklearn.linear_model import LinearRegression\n",
    "from sklearn.metrics import r2_score\n",
    "\n",
    "from sklearn.model_selection import train_test_split\n",
    "\n",
    "from sklearn.linear_model import LogisticRegression\n",
    "from sklearn.neighbors import KNeighborsClassifier\n",
    "from sklearn.tree import DecisionTreeClassifier\n",
    "from sklearn.ensemble import RandomForestClassifier\n",
    "\n",
    "from sklearn.metrics import accuracy_score\n",
    "from sklearn.metrics import confusion_matrix, classification_report\n",
    "from itertools import product\n",
    "\n",
    "import warnings\n",
    "warnings.filterwarnings(\"ignore\")\n",
    "\n",
    "RSEED=42\n",
    "\n"
   ]
  },
  {
   "cell_type": "code",
   "execution_count": 72,
   "metadata": {},
   "outputs": [],
   "source": [
    "df_tanzania=pd.read_csv(\"data/Train.csv\")\n",
    "variable_features=pd.read_csv(\"data/VariableDefinitions.csv\")"
   ]
  },
  {
   "cell_type": "code",
   "execution_count": 73,
   "metadata": {},
   "outputs": [
    {
     "data": {
      "text/html": [
       "<div>\n",
       "<style scoped>\n",
       "    .dataframe tbody tr th:only-of-type {\n",
       "        vertical-align: middle;\n",
       "    }\n",
       "\n",
       "    .dataframe tbody tr th {\n",
       "        vertical-align: top;\n",
       "    }\n",
       "\n",
       "    .dataframe thead th {\n",
       "        text-align: right;\n",
       "    }\n",
       "</style>\n",
       "<table border=\"1\" class=\"dataframe\">\n",
       "  <thead>\n",
       "    <tr style=\"text-align: right;\">\n",
       "      <th></th>\n",
       "      <th>Column Name</th>\n",
       "      <th>Definition</th>\n",
       "    </tr>\n",
       "  </thead>\n",
       "  <tbody>\n",
       "    <tr>\n",
       "      <th>0</th>\n",
       "      <td>id</td>\n",
       "      <td>Unique identifier for each tourist</td>\n",
       "    </tr>\n",
       "    <tr>\n",
       "      <th>1</th>\n",
       "      <td>country</td>\n",
       "      <td>The country a tourist coming  from.</td>\n",
       "    </tr>\n",
       "    <tr>\n",
       "      <th>2</th>\n",
       "      <td>age_group</td>\n",
       "      <td>The age group of a tourist.</td>\n",
       "    </tr>\n",
       "    <tr>\n",
       "      <th>3</th>\n",
       "      <td>travel_with</td>\n",
       "      <td>The relation of people a tourist travel with t...</td>\n",
       "    </tr>\n",
       "    <tr>\n",
       "      <th>4</th>\n",
       "      <td>total_female</td>\n",
       "      <td>Total number of females</td>\n",
       "    </tr>\n",
       "    <tr>\n",
       "      <th>5</th>\n",
       "      <td>total_male</td>\n",
       "      <td>Total number of males</td>\n",
       "    </tr>\n",
       "    <tr>\n",
       "      <th>6</th>\n",
       "      <td>purpose</td>\n",
       "      <td>The purpose of visiting  Tanzania</td>\n",
       "    </tr>\n",
       "    <tr>\n",
       "      <th>7</th>\n",
       "      <td>main_activity</td>\n",
       "      <td>The main activity of tourism in Tanzania</td>\n",
       "    </tr>\n",
       "    <tr>\n",
       "      <th>8</th>\n",
       "      <td>infor_source</td>\n",
       "      <td>The source of information about tourism in Tan...</td>\n",
       "    </tr>\n",
       "    <tr>\n",
       "      <th>9</th>\n",
       "      <td>tour_arrangment</td>\n",
       "      <td>The arrangment of visiting Tanzania</td>\n",
       "    </tr>\n",
       "    <tr>\n",
       "      <th>10</th>\n",
       "      <td>package_transport_int</td>\n",
       "      <td>If the tour package include international tran...</td>\n",
       "    </tr>\n",
       "    <tr>\n",
       "      <th>11</th>\n",
       "      <td>package_accomodation</td>\n",
       "      <td>If the tour package include accommodation service</td>\n",
       "    </tr>\n",
       "    <tr>\n",
       "      <th>12</th>\n",
       "      <td>package_food</td>\n",
       "      <td>If the tour package include food service</td>\n",
       "    </tr>\n",
       "    <tr>\n",
       "      <th>13</th>\n",
       "      <td>package_transport_tz</td>\n",
       "      <td>If the tour package include transport service ...</td>\n",
       "    </tr>\n",
       "    <tr>\n",
       "      <th>14</th>\n",
       "      <td>package_sightseeing</td>\n",
       "      <td>If the tour package include sightseeing service</td>\n",
       "    </tr>\n",
       "    <tr>\n",
       "      <th>15</th>\n",
       "      <td>package_guided_tour</td>\n",
       "      <td>If the tour package include tour guide</td>\n",
       "    </tr>\n",
       "    <tr>\n",
       "      <th>16</th>\n",
       "      <td>package_insurance</td>\n",
       "      <td>if the tour package include insurance service</td>\n",
       "    </tr>\n",
       "    <tr>\n",
       "      <th>17</th>\n",
       "      <td>night_mainland</td>\n",
       "      <td>Number of nights a tourist spent in Tanzania m...</td>\n",
       "    </tr>\n",
       "    <tr>\n",
       "      <th>18</th>\n",
       "      <td>night_zanzibar</td>\n",
       "      <td>Number of nights a tourist spent in Zanzibar</td>\n",
       "    </tr>\n",
       "    <tr>\n",
       "      <th>19</th>\n",
       "      <td>payment_mode</td>\n",
       "      <td>The mode of payment for tourism service</td>\n",
       "    </tr>\n",
       "    <tr>\n",
       "      <th>20</th>\n",
       "      <td>first_trip_tz</td>\n",
       "      <td>If it was a first  trip to Tanzania</td>\n",
       "    </tr>\n",
       "    <tr>\n",
       "      <th>21</th>\n",
       "      <td>most_impressing</td>\n",
       "      <td>what impressed a toursit in Tanzania</td>\n",
       "    </tr>\n",
       "    <tr>\n",
       "      <th>22</th>\n",
       "      <td>total_cost</td>\n",
       "      <td>The total tourist expenditure  in TZS(currency)</td>\n",
       "    </tr>\n",
       "  </tbody>\n",
       "</table>\n",
       "</div>"
      ],
      "text/plain": [
       "              Column Name                                         Definition\n",
       "0                      id                 Unique identifier for each tourist\n",
       "1                 country                The country a tourist coming  from.\n",
       "2               age_group                        The age group of a tourist.\n",
       "3             travel_with  The relation of people a tourist travel with t...\n",
       "4            total_female                            Total number of females\n",
       "5              total_male                              Total number of males\n",
       "6                 purpose                  The purpose of visiting  Tanzania\n",
       "7           main_activity           The main activity of tourism in Tanzania\n",
       "8            infor_source  The source of information about tourism in Tan...\n",
       "9         tour_arrangment                The arrangment of visiting Tanzania\n",
       "10  package_transport_int  If the tour package include international tran...\n",
       "11   package_accomodation  If the tour package include accommodation service\n",
       "12           package_food           If the tour package include food service\n",
       "13   package_transport_tz  If the tour package include transport service ...\n",
       "14    package_sightseeing    If the tour package include sightseeing service\n",
       "15    package_guided_tour             If the tour package include tour guide\n",
       "16      package_insurance      if the tour package include insurance service\n",
       "17         night_mainland  Number of nights a tourist spent in Tanzania m...\n",
       "18         night_zanzibar       Number of nights a tourist spent in Zanzibar\n",
       "19           payment_mode            The mode of payment for tourism service\n",
       "20          first_trip_tz                If it was a first  trip to Tanzania\n",
       "21        most_impressing               what impressed a toursit in Tanzania\n",
       "22             total_cost    The total tourist expenditure  in TZS(currency)"
      ]
     },
     "execution_count": 73,
     "metadata": {},
     "output_type": "execute_result"
    }
   ],
   "source": [
    "variable_features"
   ]
  },
  {
   "cell_type": "code",
   "execution_count": 74,
   "metadata": {},
   "outputs": [],
   "source": [
    "X = df_tanzania.drop(['total_cost','ID'],axis=1)\n",
    "y = df_tanzania.total_cost"
   ]
  },
  {
   "cell_type": "code",
   "execution_count": 75,
   "metadata": {},
   "outputs": [],
   "source": [
    "X_train,X_test,y_train,y_test = train_test_split(X,y,test_size=0.25,random_state=42)"
   ]
  },
  {
   "cell_type": "code",
   "execution_count": 76,
   "metadata": {},
   "outputs": [],
   "source": [
    "#X_test = test_features.drop('total_cost',axis=1)\n",
    "\n",
    "#y_test = test_features.total_cost\n",
    "\n"
   ]
  },
  {
   "cell_type": "code",
   "execution_count": 77,
   "metadata": {},
   "outputs": [
    {
     "data": {
      "text/plain": [
       "ID                          0\n",
       "country                     0\n",
       "age_group                   0\n",
       "travel_with              1114\n",
       "total_female                3\n",
       "total_male                  5\n",
       "purpose                     0\n",
       "main_activity               0\n",
       "info_source                 0\n",
       "tour_arrangement            0\n",
       "package_transport_int       0\n",
       "package_accomodation        0\n",
       "package_food                0\n",
       "package_transport_tz        0\n",
       "package_sightseeing         0\n",
       "package_guided_tour         0\n",
       "package_insurance           0\n",
       "night_mainland              0\n",
       "night_zanzibar              0\n",
       "payment_mode                0\n",
       "first_trip_tz               0\n",
       "most_impressing           313\n",
       "total_cost                  0\n",
       "dtype: int64"
      ]
     },
     "execution_count": 77,
     "metadata": {},
     "output_type": "execute_result"
    }
   ],
   "source": [
    "df_tanzania.isnull().sum()"
   ]
  },
  {
   "cell_type": "code",
   "execution_count": 78,
   "metadata": {},
   "outputs": [
    {
     "data": {
      "text/plain": [
       "country                    0\n",
       "age_group                  0\n",
       "travel_with              833\n",
       "total_female               1\n",
       "total_male                 4\n",
       "purpose                    0\n",
       "main_activity              0\n",
       "info_source                0\n",
       "tour_arrangement           0\n",
       "package_transport_int      0\n",
       "package_accomodation       0\n",
       "package_food               0\n",
       "package_transport_tz       0\n",
       "package_sightseeing        0\n",
       "package_guided_tour        0\n",
       "package_insurance          0\n",
       "night_mainland             0\n",
       "night_zanzibar             0\n",
       "payment_mode               0\n",
       "first_trip_tz              0\n",
       "most_impressing          226\n",
       "dtype: int64"
      ]
     },
     "execution_count": 78,
     "metadata": {},
     "output_type": "execute_result"
    }
   ],
   "source": [
    "X_train.isnull().sum()"
   ]
  },
  {
   "cell_type": "code",
   "execution_count": 79,
   "metadata": {},
   "outputs": [
    {
     "data": {
      "text/plain": [
       "0"
      ]
     },
     "execution_count": 79,
     "metadata": {},
     "output_type": "execute_result"
    }
   ],
   "source": [
    "df_tanzania.duplicated().sum()\n"
   ]
  },
  {
   "cell_type": "code",
   "execution_count": 80,
   "metadata": {},
   "outputs": [
    {
     "name": "stdout",
     "output_type": "stream",
     "text": [
      "<class 'pandas.core.frame.DataFrame'>\n",
      "RangeIndex: 4809 entries, 0 to 4808\n",
      "Data columns (total 23 columns):\n",
      " #   Column                 Non-Null Count  Dtype  \n",
      "---  ------                 --------------  -----  \n",
      " 0   ID                     4809 non-null   object \n",
      " 1   country                4809 non-null   object \n",
      " 2   age_group              4809 non-null   object \n",
      " 3   travel_with            3695 non-null   object \n",
      " 4   total_female           4806 non-null   float64\n",
      " 5   total_male             4804 non-null   float64\n",
      " 6   purpose                4809 non-null   object \n",
      " 7   main_activity          4809 non-null   object \n",
      " 8   info_source            4809 non-null   object \n",
      " 9   tour_arrangement       4809 non-null   object \n",
      " 10  package_transport_int  4809 non-null   object \n",
      " 11  package_accomodation   4809 non-null   object \n",
      " 12  package_food           4809 non-null   object \n",
      " 13  package_transport_tz   4809 non-null   object \n",
      " 14  package_sightseeing    4809 non-null   object \n",
      " 15  package_guided_tour    4809 non-null   object \n",
      " 16  package_insurance      4809 non-null   object \n",
      " 17  night_mainland         4809 non-null   float64\n",
      " 18  night_zanzibar         4809 non-null   float64\n",
      " 19  payment_mode           4809 non-null   object \n",
      " 20  first_trip_tz          4809 non-null   object \n",
      " 21  most_impressing        4496 non-null   object \n",
      " 22  total_cost             4809 non-null   float64\n",
      "dtypes: float64(5), object(18)\n",
      "memory usage: 864.2+ KB\n"
     ]
    }
   ],
   "source": [
    "df_tanzania.info()"
   ]
  },
  {
   "cell_type": "code",
   "execution_count": 81,
   "metadata": {},
   "outputs": [
    {
     "name": "stdout",
     "output_type": "stream",
     "text": [
      "unique: country                  [SOUTH AFRICA, KENYA, POLAND, IRELAND, UNITED ...\n",
      "age_group                                        [25-44, 1-24, 45-64, 65+]\n",
      "travel_with              [nan, Spouse and Children, Spouse, Friends/Rel...\n",
      "total_female             [0.0, 2.0, 1.0, 4.0, 6.0, 3.0, 7.0, 5.0, 10.0,...\n",
      "total_male               [1.0, 2.0, 0.0, 3.0, 4.0, 5.0, 6.0, nan, 9.0, ...\n",
      "purpose                  [Meetings and Conference, Leisure and Holidays...\n",
      "main_activity            [Wildlife tourism, Beach tourism, Hunting tour...\n",
      "info_source              [Friends, relatives, Radio, TV, Web, Travel, a...\n",
      "tour_arrangement                               [Independent, Package Tour]\n",
      "package_transport_int                                            [No, Yes]\n",
      "package_accomodation                                             [No, Yes]\n",
      "package_food                                                     [No, Yes]\n",
      "package_transport_tz                                             [No, Yes]\n",
      "package_sightseeing                                              [No, Yes]\n",
      "package_guided_tour                                              [No, Yes]\n",
      "package_insurance                                                [No, Yes]\n",
      "night_mainland           [2.0, 0.0, 3.0, 7.0, 6.0, 10.0, 14.0, 4.0, 12....\n",
      "night_zanzibar           [0.0, 12.0, 6.0, 7.0, 9.0, 3.0, 4.0, 15.0, 10....\n",
      "payment_mode                 [Credit Card, Cash, Travellers Cheque, Other]\n",
      "first_trip_tz                                                    [No, Yes]\n",
      "most_impressing          [Friendly People,  Wildlife, Wonderful Country...\n",
      "dtype: object\n"
     ]
    }
   ],
   "source": [
    "unique_values = X_train.apply(lambda col: col.unique())\n",
    "print('unique:',unique_values)"
   ]
  },
  {
   "cell_type": "code",
   "execution_count": 82,
   "metadata": {},
   "outputs": [],
   "source": [
    "unique_values.to_csv('data/unique_Value_train_features.csv')"
   ]
  },
  {
   "cell_type": "code",
   "execution_count": 83,
   "metadata": {},
   "outputs": [
    {
     "data": {
      "text/plain": [
       "(3606, 21)"
      ]
     },
     "execution_count": 83,
     "metadata": {},
     "output_type": "execute_result"
    }
   ],
   "source": [
    "X_train.shape"
   ]
  },
  {
   "cell_type": "code",
   "execution_count": 84,
   "metadata": {},
   "outputs": [
    {
     "data": {
      "text/plain": [
       "49.0"
      ]
     },
     "execution_count": 84,
     "metadata": {},
     "output_type": "execute_result"
    }
   ],
   "source": [
    "X_train['total_female'].max()"
   ]
  },
  {
   "cell_type": "code",
   "execution_count": 85,
   "metadata": {},
   "outputs": [
    {
     "data": {
      "text/plain": [
       "1.0"
      ]
     },
     "execution_count": 85,
     "metadata": {},
     "output_type": "execute_result"
    }
   ],
   "source": [
    "X_train['total_female'].mean().round()"
   ]
  },
  {
   "cell_type": "code",
   "execution_count": 86,
   "metadata": {},
   "outputs": [],
   "source": [
    "X_train['total_female'].fillna(round(X_train['total_female'].mean()), inplace=True)"
   ]
  },
  {
   "cell_type": "code",
   "execution_count": 87,
   "metadata": {},
   "outputs": [
    {
     "data": {
      "text/plain": [
       "0"
      ]
     },
     "execution_count": 87,
     "metadata": {},
     "output_type": "execute_result"
    }
   ],
   "source": [
    "X_train['total_female']\n",
    "X_train['total_female'].isnull().sum()"
   ]
  },
  {
   "cell_type": "code",
   "execution_count": 88,
   "metadata": {},
   "outputs": [
    {
     "data": {
      "text/plain": [
       "0"
      ]
     },
     "execution_count": 88,
     "metadata": {},
     "output_type": "execute_result"
    }
   ],
   "source": [
    "X_train['total_male'].fillna(round(X_train['total_male'].mean()), inplace=True)\n",
    "X_train['total_male'].isnull().sum()"
   ]
  },
  {
   "cell_type": "code",
   "execution_count": 89,
   "metadata": {},
   "outputs": [
    {
     "data": {
      "image/png": "[encoded data removed]",
      "text/plain": [
       "<Figure size 640x480 with 1 Axes>"
      ]
     },
     "metadata": {},
     "output_type": "display_data"
    }
   ],
   "source": [
    "#travel_with\n",
    "sns.histplot(X_train.travel_with)\n",
    "plt.show()"
   ]
  },
  {
   "cell_type": "code",
   "execution_count": 90,
   "metadata": {},
   "outputs": [
    {
     "data": {
      "image/png": "[encoded data removed]",
      "text/plain": [
       "<Figure size 640x480 with 1 Axes>"
      ]
     },
     "metadata": {},
     "output_type": "display_data"
    }
   ],
   "source": [
    "#most_impressing\n",
    "sns.histplot(X_train.most_impressing)\n",
    "plt.show()"
   ]
  },
  {
   "cell_type": "code",
   "execution_count": 91,
   "metadata": {},
   "outputs": [
    {
     "data": {
      "text/plain": [
       "Index(['country', 'age_group', 'travel_with', 'total_female', 'total_male',\n",
       "       'purpose', 'main_activity', 'info_source', 'tour_arrangement',\n",
       "       'package_transport_int', 'package_accomodation', 'package_food',\n",
       "       'package_transport_tz', 'package_sightseeing', 'package_guided_tour',\n",
       "       'package_insurance', 'night_mainland', 'night_zanzibar', 'payment_mode',\n",
       "       'first_trip_tz', 'most_impressing'],\n",
       "      dtype='object')"
      ]
     },
     "execution_count": 91,
     "metadata": {},
     "output_type": "execute_result"
    }
   ],
   "source": [
    "X_train.columns"
   ]
  },
  {
   "cell_type": "code",
   "execution_count": 95,
   "metadata": {},
   "outputs": [],
   "source": [
    "#Encoding\n",
    "col_encode = ['country', 'age_group', 'travel_with', 'purpose', 'main_activity', 'info_source', 'tour_arrangement','payment_mode', 'most_impressing']\n",
    "col_map = ['package_transport_int', 'package_accomodation', 'package_food','package_transport_tz', 'package_sightseeing', 'package_guided_tour','package_insurance','first_trip_tz',]\n"
   ]
  },
  {
   "cell_type": "code",
   "execution_count": 97,
   "metadata": {},
   "outputs": [
    {
     "name": "stdout",
     "output_type": "stream",
     "text": [
      "                       country age_group          travel_with  total_female   \n",
      "3075              SOUTH AFRICA     25-44                  NaN           0.0  \\\n",
      "2915                     KENYA     25-44  Spouse and Children           2.0   \n",
      "2304                    POLAND      1-24               Spouse           1.0   \n",
      "1196                   IRELAND     45-64    Friends/Relatives           0.0   \n",
      "620             UNITED KINGDOM     45-64                  NaN           1.0   \n",
      "...                        ...       ...                  ...           ...   \n",
      "4426                    UGANDA     25-44                  NaN           0.0   \n",
      "466             UNITED KINGDOM     45-64    Friends/Relatives           6.0   \n",
      "3092                     KENYA     45-64                  NaN           0.0   \n",
      "3772                  ZIMBABWE     25-44                Alone           0.0   \n",
      "860   UNITED STATES OF AMERICA       65+               Spouse           1.0   \n",
      "\n",
      "      total_male                         purpose      main_activity   \n",
      "3075         1.0         Meetings and Conference   Wildlife tourism  \\\n",
      "2915         2.0            Leisure and Holidays      Beach tourism   \n",
      "2304         1.0            Leisure and Holidays      Beach tourism   \n",
      "1196         2.0                        Business   Wildlife tourism   \n",
      "620          0.0                    Volunteering    Hunting tourism   \n",
      "...          ...                             ...                ...   \n",
      "4426         1.0         Meetings and Conference  Mountain climbing   \n",
      "466          6.0  Visiting Friends and Relatives    Hunting tourism   \n",
      "3092         1.0            Leisure and Holidays   Cultural tourism   \n",
      "3772         1.0                           Other    Hunting tourism   \n",
      "860          1.0            Leisure and Holidays   Wildlife tourism   \n",
      "\n",
      "                       info_source tour_arrangement  package_transport_int   \n",
      "3075            Friends, relatives      Independent                      0  \\\n",
      "2915            Friends, relatives      Independent                      0   \n",
      "2304                Radio, TV, Web      Independent                      0   \n",
      "1196                Radio, TV, Web      Independent                      0   \n",
      "620   Travel, agent, tour operator      Independent                      0   \n",
      "...                            ...              ...                    ...   \n",
      "4426            Friends, relatives      Independent                      0   \n",
      "466   Travel, agent, tour operator     Package Tour                      1   \n",
      "3092            Friends, relatives      Independent                      0   \n",
      "3772            Friends, relatives      Independent                      0   \n",
      "860   Travel, agent, tour operator     Package Tour                      1   \n",
      "\n",
      "      ...  package_food  package_transport_tz  package_sightseeing   \n",
      "3075  ...             0                     0                    0  \\\n",
      "2915  ...             0                     0                    0   \n",
      "2304  ...             0                     0                    0   \n",
      "1196  ...             0                     0                    0   \n",
      "620   ...             0                     0                    0   \n",
      "...   ...           ...                   ...                  ...   \n",
      "4426  ...             0                     0                    0   \n",
      "466   ...             1                     1                    1   \n",
      "3092  ...             0                     0                    0   \n",
      "3772  ...             0                     0                    0   \n",
      "860   ...             1                     1                    1   \n",
      "\n",
      "      package_guided_tour  package_insurance  night_mainland  night_zanzibar   \n",
      "3075                    0                  0             2.0             0.0  \\\n",
      "2915                    0                  0             0.0            12.0   \n",
      "2304                    0                  0             3.0             6.0   \n",
      "1196                    0                  0             2.0             0.0   \n",
      "620                     0                  0             3.0             0.0   \n",
      "...                   ...                ...             ...             ...   \n",
      "4426                    0                  0            60.0             0.0   \n",
      "466                     1                  0             7.0             0.0   \n",
      "3092                    0                  0            10.0             0.0   \n",
      "3772                    0                  0             1.0             0.0   \n",
      "860                     1                  0             6.0             0.0   \n",
      "\n",
      "      payment_mode first_trip_tz       most_impressing  \n",
      "3075   Credit Card             0       Friendly People  \n",
      "2915          Cash             1       Friendly People  \n",
      "2304          Cash             1              Wildlife  \n",
      "1196   Credit Card             1       Friendly People  \n",
      "620           Cash             0       Friendly People  \n",
      "...            ...           ...                   ...  \n",
      "4426          Cash             1  Excellent Experience  \n",
      "466           Cash             0       Friendly People  \n",
      "3092          Cash             1       Friendly People  \n",
      "3772          Cash             0                   NaN  \n",
      "860           Cash             0              Wildlife  \n",
      "\n",
      "[3606 rows x 21 columns]\n"
     ]
    }
   ],
   "source": [
    "# Replace 'yes' with 1 and 'no' with 0 in specified columns \n",
    "X_train[col_map] = X_train[col_map].replace({'Yes': 1, 'No': 0}) \n",
    "print(X_train)"
   ]
  },
  {
   "cell_type": "code",
   "execution_count": 100,
   "metadata": {},
   "outputs": [
    {
     "data": {
      "text/html": [
       "<div>\n",
       "<style scoped>\n",
       "    .dataframe tbody tr th:only-of-type {\n",
       "        vertical-align: middle;\n",
       "    }\n",
       "\n",
       "    .dataframe tbody tr th {\n",
       "        vertical-align: top;\n",
       "    }\n",
       "\n",
       "    .dataframe thead th {\n",
       "        text-align: right;\n",
       "    }\n",
       "</style>\n",
       "<table border=\"1\" class=\"dataframe\">\n",
       "  <thead>\n",
       "    <tr style=\"text-align: right;\">\n",
       "      <th></th>\n",
       "      <th>total_female</th>\n",
       "      <th>total_male</th>\n",
       "      <th>package_transport_int</th>\n",
       "      <th>package_accomodation</th>\n",
       "      <th>package_food</th>\n",
       "      <th>package_transport_tz</th>\n",
       "      <th>package_sightseeing</th>\n",
       "      <th>package_guided_tour</th>\n",
       "      <th>package_insurance</th>\n",
       "      <th>night_mainland</th>\n",
       "      <th>night_zanzibar</th>\n",
       "      <th>first_trip_tz</th>\n",
       "    </tr>\n",
       "  </thead>\n",
       "  <tbody>\n",
       "    <tr>\n",
       "      <th>total_female</th>\n",
       "      <td>1.000000</td>\n",
       "      <td>0.514951</td>\n",
       "      <td>0.170134</td>\n",
       "      <td>0.178035</td>\n",
       "      <td>0.159722</td>\n",
       "      <td>0.159895</td>\n",
       "      <td>0.133845</td>\n",
       "      <td>0.130751</td>\n",
       "      <td>0.102355</td>\n",
       "      <td>0.028757</td>\n",
       "      <td>0.141290</td>\n",
       "      <td>0.152758</td>\n",
       "    </tr>\n",
       "    <tr>\n",
       "      <th>total_male</th>\n",
       "      <td>0.514951</td>\n",
       "      <td>1.000000</td>\n",
       "      <td>0.092182</td>\n",
       "      <td>0.036991</td>\n",
       "      <td>0.021783</td>\n",
       "      <td>0.031980</td>\n",
       "      <td>0.028054</td>\n",
       "      <td>0.017208</td>\n",
       "      <td>0.038437</td>\n",
       "      <td>-0.041586</td>\n",
       "      <td>0.048440</td>\n",
       "      <td>0.026907</td>\n",
       "    </tr>\n",
       "    <tr>\n",
       "      <th>package_transport_int</th>\n",
       "      <td>0.170134</td>\n",
       "      <td>0.092182</td>\n",
       "      <td>1.000000</td>\n",
       "      <td>0.670450</td>\n",
       "      <td>0.615050</td>\n",
       "      <td>0.588055</td>\n",
       "      <td>0.415581</td>\n",
       "      <td>0.416156</td>\n",
       "      <td>0.474883</td>\n",
       "      <td>-0.115652</td>\n",
       "      <td>0.228680</td>\n",
       "      <td>0.261320</td>\n",
       "    </tr>\n",
       "    <tr>\n",
       "      <th>package_accomodation</th>\n",
       "      <td>0.178035</td>\n",
       "      <td>0.036991</td>\n",
       "      <td>0.670450</td>\n",
       "      <td>1.000000</td>\n",
       "      <td>0.926280</td>\n",
       "      <td>0.856207</td>\n",
       "      <td>0.698337</td>\n",
       "      <td>0.724267</td>\n",
       "      <td>0.445421</td>\n",
       "      <td>-0.073064</td>\n",
       "      <td>0.135713</td>\n",
       "      <td>0.400472</td>\n",
       "    </tr>\n",
       "    <tr>\n",
       "      <th>package_food</th>\n",
       "      <td>0.159722</td>\n",
       "      <td>0.021783</td>\n",
       "      <td>0.615050</td>\n",
       "      <td>0.926280</td>\n",
       "      <td>1.000000</td>\n",
       "      <td>0.826437</td>\n",
       "      <td>0.662631</td>\n",
       "      <td>0.701006</td>\n",
       "      <td>0.446895</td>\n",
       "      <td>-0.082787</td>\n",
       "      <td>0.122729</td>\n",
       "      <td>0.383350</td>\n",
       "    </tr>\n",
       "    <tr>\n",
       "      <th>package_transport_tz</th>\n",
       "      <td>0.159895</td>\n",
       "      <td>0.031980</td>\n",
       "      <td>0.588055</td>\n",
       "      <td>0.856207</td>\n",
       "      <td>0.826437</td>\n",
       "      <td>1.000000</td>\n",
       "      <td>0.689453</td>\n",
       "      <td>0.698002</td>\n",
       "      <td>0.443974</td>\n",
       "      <td>-0.058969</td>\n",
       "      <td>0.101221</td>\n",
       "      <td>0.374713</td>\n",
       "    </tr>\n",
       "    <tr>\n",
       "      <th>package_sightseeing</th>\n",
       "      <td>0.133845</td>\n",
       "      <td>0.028054</td>\n",
       "      <td>0.415581</td>\n",
       "      <td>0.698337</td>\n",
       "      <td>0.662631</td>\n",
       "      <td>0.689453</td>\n",
       "      <td>1.000000</td>\n",
       "      <td>0.788207</td>\n",
       "      <td>0.385619</td>\n",
       "      <td>0.014182</td>\n",
       "      <td>-0.009303</td>\n",
       "      <td>0.324582</td>\n",
       "    </tr>\n",
       "    <tr>\n",
       "      <th>package_guided_tour</th>\n",
       "      <td>0.130751</td>\n",
       "      <td>0.017208</td>\n",
       "      <td>0.416156</td>\n",
       "      <td>0.724267</td>\n",
       "      <td>0.701006</td>\n",
       "      <td>0.698002</td>\n",
       "      <td>0.788207</td>\n",
       "      <td>1.000000</td>\n",
       "      <td>0.432193</td>\n",
       "      <td>-0.007543</td>\n",
       "      <td>0.000886</td>\n",
       "      <td>0.350292</td>\n",
       "    </tr>\n",
       "    <tr>\n",
       "      <th>package_insurance</th>\n",
       "      <td>0.102355</td>\n",
       "      <td>0.038437</td>\n",
       "      <td>0.474883</td>\n",
       "      <td>0.445421</td>\n",
       "      <td>0.446895</td>\n",
       "      <td>0.443974</td>\n",
       "      <td>0.385619</td>\n",
       "      <td>0.432193</td>\n",
       "      <td>1.000000</td>\n",
       "      <td>-0.067193</td>\n",
       "      <td>0.120316</td>\n",
       "      <td>0.215047</td>\n",
       "    </tr>\n",
       "    <tr>\n",
       "      <th>night_mainland</th>\n",
       "      <td>0.028757</td>\n",
       "      <td>-0.041586</td>\n",
       "      <td>-0.115652</td>\n",
       "      <td>-0.073064</td>\n",
       "      <td>-0.082787</td>\n",
       "      <td>-0.058969</td>\n",
       "      <td>0.014182</td>\n",
       "      <td>-0.007543</td>\n",
       "      <td>-0.067193</td>\n",
       "      <td>1.000000</td>\n",
       "      <td>-0.115445</td>\n",
       "      <td>-0.003543</td>\n",
       "    </tr>\n",
       "    <tr>\n",
       "      <th>night_zanzibar</th>\n",
       "      <td>0.141290</td>\n",
       "      <td>0.048440</td>\n",
       "      <td>0.228680</td>\n",
       "      <td>0.135713</td>\n",
       "      <td>0.122729</td>\n",
       "      <td>0.101221</td>\n",
       "      <td>-0.009303</td>\n",
       "      <td>0.000886</td>\n",
       "      <td>0.120316</td>\n",
       "      <td>-0.115445</td>\n",
       "      <td>1.000000</td>\n",
       "      <td>0.154173</td>\n",
       "    </tr>\n",
       "    <tr>\n",
       "      <th>first_trip_tz</th>\n",
       "      <td>0.152758</td>\n",
       "      <td>0.026907</td>\n",
       "      <td>0.261320</td>\n",
       "      <td>0.400472</td>\n",
       "      <td>0.383350</td>\n",
       "      <td>0.374713</td>\n",
       "      <td>0.324582</td>\n",
       "      <td>0.350292</td>\n",
       "      <td>0.215047</td>\n",
       "      <td>-0.003543</td>\n",
       "      <td>0.154173</td>\n",
       "      <td>1.000000</td>\n",
       "    </tr>\n",
       "  </tbody>\n",
       "</table>\n",
       "</div>"
      ],
      "text/plain": [
       "                       total_female  total_male  package_transport_int   \n",
       "total_female               1.000000    0.514951               0.170134  \\\n",
       "total_male                 0.514951    1.000000               0.092182   \n",
       "package_transport_int      0.170134    0.092182               1.000000   \n",
       "package_accomodation       0.178035    0.036991               0.670450   \n",
       "package_food               0.159722    0.021783               0.615050   \n",
       "package_transport_tz       0.159895    0.031980               0.588055   \n",
       "package_sightseeing        0.133845    0.028054               0.415581   \n",
       "package_guided_tour        0.130751    0.017208               0.416156   \n",
       "package_insurance          0.102355    0.038437               0.474883   \n",
       "night_mainland             0.028757   -0.041586              -0.115652   \n",
       "night_zanzibar             0.141290    0.048440               0.228680   \n",
       "first_trip_tz              0.152758    0.026907               0.261320   \n",
       "\n",
       "                       package_accomodation  package_food   \n",
       "total_female                       0.178035      0.159722  \\\n",
       "total_male                         0.036991      0.021783   \n",
       "package_transport_int              0.670450      0.615050   \n",
       "package_accomodation               1.000000      0.926280   \n",
       "package_food                       0.926280      1.000000   \n",
       "package_transport_tz               0.856207      0.826437   \n",
       "package_sightseeing                0.698337      0.662631   \n",
       "package_guided_tour                0.724267      0.701006   \n",
       "package_insurance                  0.445421      0.446895   \n",
       "night_mainland                    -0.073064     -0.082787   \n",
       "night_zanzibar                     0.135713      0.122729   \n",
       "first_trip_tz                      0.400472      0.383350   \n",
       "\n",
       "                       package_transport_tz  package_sightseeing   \n",
       "total_female                       0.159895             0.133845  \\\n",
       "total_male                         0.031980             0.028054   \n",
       "package_transport_int              0.588055             0.415581   \n",
       "package_accomodation               0.856207             0.698337   \n",
       "package_food                       0.826437             0.662631   \n",
       "package_transport_tz               1.000000             0.689453   \n",
       "package_sightseeing                0.689453             1.000000   \n",
       "package_guided_tour                0.698002             0.788207   \n",
       "package_insurance                  0.443974             0.385619   \n",
       "night_mainland                    -0.058969             0.014182   \n",
       "night_zanzibar                     0.101221            -0.009303   \n",
       "first_trip_tz                      0.374713             0.324582   \n",
       "\n",
       "                       package_guided_tour  package_insurance  night_mainland   \n",
       "total_female                      0.130751           0.102355        0.028757  \\\n",
       "total_male                        0.017208           0.038437       -0.041586   \n",
       "package_transport_int             0.416156           0.474883       -0.115652   \n",
       "package_accomodation              0.724267           0.445421       -0.073064   \n",
       "package_food                      0.701006           0.446895       -0.082787   \n",
       "package_transport_tz              0.698002           0.443974       -0.058969   \n",
       "package_sightseeing               0.788207           0.385619        0.014182   \n",
       "package_guided_tour               1.000000           0.432193       -0.007543   \n",
       "package_insurance                 0.432193           1.000000       -0.067193   \n",
       "night_mainland                   -0.007543          -0.067193        1.000000   \n",
       "night_zanzibar                    0.000886           0.120316       -0.115445   \n",
       "first_trip_tz                     0.350292           0.215047       -0.003543   \n",
       "\n",
       "                       night_zanzibar  first_trip_tz  \n",
       "total_female                 0.141290       0.152758  \n",
       "total_male                   0.048440       0.026907  \n",
       "package_transport_int        0.228680       0.261320  \n",
       "package_accomodation         0.135713       0.400472  \n",
       "package_food                 0.122729       0.383350  \n",
       "package_transport_tz         0.101221       0.374713  \n",
       "package_sightseeing         -0.009303       0.324582  \n",
       "package_guided_tour          0.000886       0.350292  \n",
       "package_insurance            0.120316       0.215047  \n",
       "night_mainland              -0.115445      -0.003543  \n",
       "night_zanzibar               1.000000       0.154173  \n",
       "first_trip_tz                0.154173       1.000000  "
      ]
     },
     "execution_count": 100,
     "metadata": {},
     "output_type": "execute_result"
    }
   ],
   "source": [
    "X_train.corr(numeric_only = True)"
   ]
  }
 ],
 "metadata": {
  "kernelspec": {
   "display_name": ".venv",
   "language": "python",
   "name": "python3"
  },
  "language_info": {
   "codemirror_mode": {
    "name": "ipython",
    "version": 3
   },
   "file_extension": ".py",
   "mimetype": "text/x-python",
   "name": "python",
   "nbconvert_exporter": "python",
   "pygments_lexer": "ipython3",
   "version": "3.11.3"
  }
 },
 "nbformat": 4,
 "nbformat_minor": 4
}
