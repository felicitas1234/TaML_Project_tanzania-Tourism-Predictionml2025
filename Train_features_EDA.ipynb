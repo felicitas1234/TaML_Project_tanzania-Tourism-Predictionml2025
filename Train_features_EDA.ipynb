{
 "cells": [
  {
   "cell_type": "code",
   "execution_count": 48,
   "metadata": {},
   "outputs": [],
   "source": [
    "import pandas as pd\n",
    "import numpy as np\n",
    "import warnings\n",
    "warnings.filterwarnings('ignore')\n",
    "import numpy as np\n",
    "import pandas as pd\n",
    "import matplotlib.pyplot as plt\n",
    "import seaborn as sns\n",
    "\n",
    "\n",
    "\n",
    "# coffee data\n",
    "#url=\"https://github.com/jldbc/coffee-quality-database/raw/master/data/robusta_data_cleaned.csv\"\n",
    "test_features=pd.read_csv(\"data/Test.csv\")\n",
    "train_features=pd.read_csv(\"data/Train.csv\")\n",
    "variable_features=pd.read_csv(\"data/VariableDefinitions.csv\")\n",
    "\n",
    "# coffe score\n",
    "\n",
    "#url=\"https://raw.githubusercontent.com/jldbc/coffee-quality-database/master/data/robusta_ratings_raw.csv\"\n",
    "#coffee_quality=pd.read_csv(url)"
   ]
  },
  {
   "cell_type": "code",
   "execution_count": 49,
   "metadata": {},
   "outputs": [
    {
     "data": {
      "text/html": [
       "<div>\n",
       "<style scoped>\n",
       "    .dataframe tbody tr th:only-of-type {\n",
       "        vertical-align: middle;\n",
       "    }\n",
       "\n",
       "    .dataframe tbody tr th {\n",
       "        vertical-align: top;\n",
       "    }\n",
       "\n",
       "    .dataframe thead th {\n",
       "        text-align: right;\n",
       "    }\n",
       "</style>\n",
       "<table border=\"1\" class=\"dataframe\">\n",
       "  <thead>\n",
       "    <tr style=\"text-align: right;\">\n",
       "      <th></th>\n",
       "      <th>ID</th>\n",
       "      <th>country</th>\n",
       "      <th>age_group</th>\n",
       "      <th>travel_with</th>\n",
       "      <th>total_female</th>\n",
       "      <th>total_male</th>\n",
       "      <th>purpose</th>\n",
       "      <th>main_activity</th>\n",
       "      <th>info_source</th>\n",
       "      <th>tour_arrangement</th>\n",
       "      <th>...</th>\n",
       "      <th>package_food</th>\n",
       "      <th>package_transport_tz</th>\n",
       "      <th>package_sightseeing</th>\n",
       "      <th>package_guided_tour</th>\n",
       "      <th>package_insurance</th>\n",
       "      <th>night_mainland</th>\n",
       "      <th>night_zanzibar</th>\n",
       "      <th>payment_mode</th>\n",
       "      <th>first_trip_tz</th>\n",
       "      <th>most_impressing</th>\n",
       "    </tr>\n",
       "  </thead>\n",
       "  <tbody>\n",
       "    <tr>\n",
       "      <th>0</th>\n",
       "      <td>tour_1</td>\n",
       "      <td>AUSTRALIA</td>\n",
       "      <td>45-64</td>\n",
       "      <td>Spouse</td>\n",
       "      <td>1.0</td>\n",
       "      <td>1.0</td>\n",
       "      <td>Leisure and Holidays</td>\n",
       "      <td>Wildlife tourism</td>\n",
       "      <td>Travel, agent, tour operator</td>\n",
       "      <td>Package Tour</td>\n",
       "      <td>...</td>\n",
       "      <td>Yes</td>\n",
       "      <td>Yes</td>\n",
       "      <td>Yes</td>\n",
       "      <td>Yes</td>\n",
       "      <td>Yes</td>\n",
       "      <td>10</td>\n",
       "      <td>3</td>\n",
       "      <td>Cash</td>\n",
       "      <td>Yes</td>\n",
       "      <td>Wildlife</td>\n",
       "    </tr>\n",
       "    <tr>\n",
       "      <th>1</th>\n",
       "      <td>tour_100</td>\n",
       "      <td>SOUTH AFRICA</td>\n",
       "      <td>25-44</td>\n",
       "      <td>Friends/Relatives</td>\n",
       "      <td>0.0</td>\n",
       "      <td>4.0</td>\n",
       "      <td>Business</td>\n",
       "      <td>Wildlife tourism</td>\n",
       "      <td>Tanzania Mission Abroad</td>\n",
       "      <td>Package Tour</td>\n",
       "      <td>...</td>\n",
       "      <td>No</td>\n",
       "      <td>No</td>\n",
       "      <td>No</td>\n",
       "      <td>No</td>\n",
       "      <td>No</td>\n",
       "      <td>13</td>\n",
       "      <td>0</td>\n",
       "      <td>Cash</td>\n",
       "      <td>No</td>\n",
       "      <td>Wonderful Country, Landscape, Nature</td>\n",
       "    </tr>\n",
       "    <tr>\n",
       "      <th>2</th>\n",
       "      <td>tour_1001</td>\n",
       "      <td>GERMANY</td>\n",
       "      <td>25-44</td>\n",
       "      <td>Friends/Relatives</td>\n",
       "      <td>3.0</td>\n",
       "      <td>0.0</td>\n",
       "      <td>Leisure and Holidays</td>\n",
       "      <td>Beach tourism</td>\n",
       "      <td>Friends, relatives</td>\n",
       "      <td>Independent</td>\n",
       "      <td>...</td>\n",
       "      <td>No</td>\n",
       "      <td>No</td>\n",
       "      <td>No</td>\n",
       "      <td>No</td>\n",
       "      <td>No</td>\n",
       "      <td>7</td>\n",
       "      <td>14</td>\n",
       "      <td>Cash</td>\n",
       "      <td>No</td>\n",
       "      <td>No comments</td>\n",
       "    </tr>\n",
       "    <tr>\n",
       "      <th>3</th>\n",
       "      <td>tour_1006</td>\n",
       "      <td>CANADA</td>\n",
       "      <td>24-Jan</td>\n",
       "      <td>Friends/Relatives</td>\n",
       "      <td>2.0</td>\n",
       "      <td>0.0</td>\n",
       "      <td>Leisure and Holidays</td>\n",
       "      <td>Cultural tourism</td>\n",
       "      <td>others</td>\n",
       "      <td>Independent</td>\n",
       "      <td>...</td>\n",
       "      <td>No</td>\n",
       "      <td>No</td>\n",
       "      <td>No</td>\n",
       "      <td>No</td>\n",
       "      <td>No</td>\n",
       "      <td>0</td>\n",
       "      <td>4</td>\n",
       "      <td>Cash</td>\n",
       "      <td>Yes</td>\n",
       "      <td>Friendly People</td>\n",
       "    </tr>\n",
       "    <tr>\n",
       "      <th>4</th>\n",
       "      <td>tour_1009</td>\n",
       "      <td>UNITED KINGDOM</td>\n",
       "      <td>45-64</td>\n",
       "      <td>Friends/Relatives</td>\n",
       "      <td>2.0</td>\n",
       "      <td>2.0</td>\n",
       "      <td>Leisure and Holidays</td>\n",
       "      <td>Wildlife tourism</td>\n",
       "      <td>Friends, relatives</td>\n",
       "      <td>Package Tour</td>\n",
       "      <td>...</td>\n",
       "      <td>Yes</td>\n",
       "      <td>Yes</td>\n",
       "      <td>No</td>\n",
       "      <td>No</td>\n",
       "      <td>No</td>\n",
       "      <td>10</td>\n",
       "      <td>0</td>\n",
       "      <td>Cash</td>\n",
       "      <td>Yes</td>\n",
       "      <td>Friendly People</td>\n",
       "    </tr>\n",
       "  </tbody>\n",
       "</table>\n",
       "<p>5 rows × 22 columns</p>\n",
       "</div>"
      ],
      "text/plain": [
       "          ID         country age_group        travel_with  total_female   \n",
       "0     tour_1       AUSTRALIA     45-64             Spouse           1.0  \\\n",
       "1   tour_100    SOUTH AFRICA     25-44  Friends/Relatives           0.0   \n",
       "2  tour_1001         GERMANY     25-44  Friends/Relatives           3.0   \n",
       "3  tour_1006          CANADA    24-Jan  Friends/Relatives           2.0   \n",
       "4  tour_1009  UNITED KINGDOM     45-64  Friends/Relatives           2.0   \n",
       "\n",
       "   total_male               purpose     main_activity   \n",
       "0         1.0  Leisure and Holidays  Wildlife tourism  \\\n",
       "1         4.0              Business  Wildlife tourism   \n",
       "2         0.0  Leisure and Holidays     Beach tourism   \n",
       "3         0.0  Leisure and Holidays  Cultural tourism   \n",
       "4         2.0  Leisure and Holidays  Wildlife tourism   \n",
       "\n",
       "                    info_source tour_arrangement  ... package_food   \n",
       "0  Travel, agent, tour operator     Package Tour  ...          Yes  \\\n",
       "1       Tanzania Mission Abroad     Package Tour  ...           No   \n",
       "2            Friends, relatives      Independent  ...           No   \n",
       "3                        others      Independent  ...           No   \n",
       "4            Friends, relatives     Package Tour  ...          Yes   \n",
       "\n",
       "  package_transport_tz package_sightseeing package_guided_tour   \n",
       "0                  Yes                 Yes                 Yes  \\\n",
       "1                   No                  No                  No   \n",
       "2                   No                  No                  No   \n",
       "3                   No                  No                  No   \n",
       "4                  Yes                  No                  No   \n",
       "\n",
       "  package_insurance night_mainland night_zanzibar  payment_mode   \n",
       "0               Yes             10              3          Cash  \\\n",
       "1                No             13              0          Cash   \n",
       "2                No              7             14          Cash   \n",
       "3                No              0              4          Cash   \n",
       "4                No             10              0          Cash   \n",
       "\n",
       "   first_trip_tz                       most_impressing  \n",
       "0            Yes                              Wildlife  \n",
       "1             No  Wonderful Country, Landscape, Nature  \n",
       "2             No                           No comments  \n",
       "3            Yes                       Friendly People  \n",
       "4            Yes                       Friendly People  \n",
       "\n",
       "[5 rows x 22 columns]"
      ]
     },
     "execution_count": 49,
     "metadata": {},
     "output_type": "execute_result"
    }
   ],
   "source": [
    "test_features.head()"
   ]
  },
  {
   "cell_type": "code",
   "execution_count": 50,
   "metadata": {},
   "outputs": [
    {
     "data": {
      "text/html": [
       "<div>\n",
       "<style scoped>\n",
       "    .dataframe tbody tr th:only-of-type {\n",
       "        vertical-align: middle;\n",
       "    }\n",
       "\n",
       "    .dataframe tbody tr th {\n",
       "        vertical-align: top;\n",
       "    }\n",
       "\n",
       "    .dataframe thead th {\n",
       "        text-align: right;\n",
       "    }\n",
       "</style>\n",
       "<table border=\"1\" class=\"dataframe\">\n",
       "  <thead>\n",
       "    <tr style=\"text-align: right;\">\n",
       "      <th></th>\n",
       "      <th>ID</th>\n",
       "      <th>country</th>\n",
       "      <th>age_group</th>\n",
       "      <th>travel_with</th>\n",
       "      <th>total_female</th>\n",
       "      <th>total_male</th>\n",
       "      <th>purpose</th>\n",
       "      <th>main_activity</th>\n",
       "      <th>info_source</th>\n",
       "      <th>tour_arrangement</th>\n",
       "      <th>...</th>\n",
       "      <th>package_transport_tz</th>\n",
       "      <th>package_sightseeing</th>\n",
       "      <th>package_guided_tour</th>\n",
       "      <th>package_insurance</th>\n",
       "      <th>night_mainland</th>\n",
       "      <th>night_zanzibar</th>\n",
       "      <th>payment_mode</th>\n",
       "      <th>first_trip_tz</th>\n",
       "      <th>most_impressing</th>\n",
       "      <th>total_cost</th>\n",
       "    </tr>\n",
       "  </thead>\n",
       "  <tbody>\n",
       "    <tr>\n",
       "      <th>0</th>\n",
       "      <td>tour_0</td>\n",
       "      <td>SWIZERLAND</td>\n",
       "      <td>45-64</td>\n",
       "      <td>Friends/Relatives</td>\n",
       "      <td>1.0</td>\n",
       "      <td>1.0</td>\n",
       "      <td>Leisure and Holidays</td>\n",
       "      <td>Wildlife tourism</td>\n",
       "      <td>Friends, relatives</td>\n",
       "      <td>Independent</td>\n",
       "      <td>...</td>\n",
       "      <td>No</td>\n",
       "      <td>No</td>\n",
       "      <td>No</td>\n",
       "      <td>No</td>\n",
       "      <td>13.0</td>\n",
       "      <td>0.0</td>\n",
       "      <td>Cash</td>\n",
       "      <td>No</td>\n",
       "      <td>Friendly People</td>\n",
       "      <td>674602.5</td>\n",
       "    </tr>\n",
       "    <tr>\n",
       "      <th>1</th>\n",
       "      <td>tour_10</td>\n",
       "      <td>UNITED KINGDOM</td>\n",
       "      <td>25-44</td>\n",
       "      <td>NaN</td>\n",
       "      <td>1.0</td>\n",
       "      <td>0.0</td>\n",
       "      <td>Leisure and Holidays</td>\n",
       "      <td>Cultural tourism</td>\n",
       "      <td>others</td>\n",
       "      <td>Independent</td>\n",
       "      <td>...</td>\n",
       "      <td>No</td>\n",
       "      <td>No</td>\n",
       "      <td>No</td>\n",
       "      <td>No</td>\n",
       "      <td>14.0</td>\n",
       "      <td>7.0</td>\n",
       "      <td>Cash</td>\n",
       "      <td>Yes</td>\n",
       "      <td>Wonderful Country, Landscape, Nature</td>\n",
       "      <td>3214906.5</td>\n",
       "    </tr>\n",
       "    <tr>\n",
       "      <th>2</th>\n",
       "      <td>tour_1000</td>\n",
       "      <td>UNITED KINGDOM</td>\n",
       "      <td>25-44</td>\n",
       "      <td>Alone</td>\n",
       "      <td>0.0</td>\n",
       "      <td>1.0</td>\n",
       "      <td>Visiting Friends and Relatives</td>\n",
       "      <td>Cultural tourism</td>\n",
       "      <td>Friends, relatives</td>\n",
       "      <td>Independent</td>\n",
       "      <td>...</td>\n",
       "      <td>No</td>\n",
       "      <td>No</td>\n",
       "      <td>No</td>\n",
       "      <td>No</td>\n",
       "      <td>1.0</td>\n",
       "      <td>31.0</td>\n",
       "      <td>Cash</td>\n",
       "      <td>No</td>\n",
       "      <td>Excellent Experience</td>\n",
       "      <td>3315000.0</td>\n",
       "    </tr>\n",
       "    <tr>\n",
       "      <th>3</th>\n",
       "      <td>tour_1002</td>\n",
       "      <td>UNITED KINGDOM</td>\n",
       "      <td>25-44</td>\n",
       "      <td>Spouse</td>\n",
       "      <td>1.0</td>\n",
       "      <td>1.0</td>\n",
       "      <td>Leisure and Holidays</td>\n",
       "      <td>Wildlife tourism</td>\n",
       "      <td>Travel, agent, tour operator</td>\n",
       "      <td>Package Tour</td>\n",
       "      <td>...</td>\n",
       "      <td>Yes</td>\n",
       "      <td>Yes</td>\n",
       "      <td>Yes</td>\n",
       "      <td>No</td>\n",
       "      <td>11.0</td>\n",
       "      <td>0.0</td>\n",
       "      <td>Cash</td>\n",
       "      <td>Yes</td>\n",
       "      <td>Friendly People</td>\n",
       "      <td>7790250.0</td>\n",
       "    </tr>\n",
       "    <tr>\n",
       "      <th>4</th>\n",
       "      <td>tour_1004</td>\n",
       "      <td>CHINA</td>\n",
       "      <td>1-24</td>\n",
       "      <td>NaN</td>\n",
       "      <td>1.0</td>\n",
       "      <td>0.0</td>\n",
       "      <td>Leisure and Holidays</td>\n",
       "      <td>Wildlife tourism</td>\n",
       "      <td>Travel, agent, tour operator</td>\n",
       "      <td>Independent</td>\n",
       "      <td>...</td>\n",
       "      <td>No</td>\n",
       "      <td>No</td>\n",
       "      <td>No</td>\n",
       "      <td>No</td>\n",
       "      <td>7.0</td>\n",
       "      <td>4.0</td>\n",
       "      <td>Cash</td>\n",
       "      <td>Yes</td>\n",
       "      <td>No comments</td>\n",
       "      <td>1657500.0</td>\n",
       "    </tr>\n",
       "  </tbody>\n",
       "</table>\n",
       "<p>5 rows × 23 columns</p>\n",
       "</div>"
      ],
      "text/plain": [
       "          ID         country age_group        travel_with  total_female   \n",
       "0     tour_0      SWIZERLAND     45-64  Friends/Relatives           1.0  \\\n",
       "1    tour_10  UNITED KINGDOM     25-44                NaN           1.0   \n",
       "2  tour_1000  UNITED KINGDOM     25-44              Alone           0.0   \n",
       "3  tour_1002  UNITED KINGDOM     25-44             Spouse           1.0   \n",
       "4  tour_1004           CHINA      1-24                NaN           1.0   \n",
       "\n",
       "   total_male                         purpose     main_activity   \n",
       "0         1.0            Leisure and Holidays  Wildlife tourism  \\\n",
       "1         0.0            Leisure and Holidays  Cultural tourism   \n",
       "2         1.0  Visiting Friends and Relatives  Cultural tourism   \n",
       "3         1.0            Leisure and Holidays  Wildlife tourism   \n",
       "4         0.0            Leisure and Holidays  Wildlife tourism   \n",
       "\n",
       "                    info_source tour_arrangement  ... package_transport_tz   \n",
       "0            Friends, relatives      Independent  ...                   No  \\\n",
       "1                        others      Independent  ...                   No   \n",
       "2            Friends, relatives      Independent  ...                   No   \n",
       "3  Travel, agent, tour operator     Package Tour  ...                  Yes   \n",
       "4  Travel, agent, tour operator      Independent  ...                   No   \n",
       "\n",
       "  package_sightseeing package_guided_tour package_insurance night_mainland   \n",
       "0                  No                  No                No           13.0  \\\n",
       "1                  No                  No                No           14.0   \n",
       "2                  No                  No                No            1.0   \n",
       "3                 Yes                 Yes                No           11.0   \n",
       "4                  No                  No                No            7.0   \n",
       "\n",
       "  night_zanzibar payment_mode  first_trip_tz   \n",
       "0            0.0         Cash             No  \\\n",
       "1            7.0         Cash            Yes   \n",
       "2           31.0         Cash             No   \n",
       "3            0.0         Cash            Yes   \n",
       "4            4.0         Cash            Yes   \n",
       "\n",
       "                        most_impressing total_cost  \n",
       "0                       Friendly People   674602.5  \n",
       "1  Wonderful Country, Landscape, Nature  3214906.5  \n",
       "2                  Excellent Experience  3315000.0  \n",
       "3                       Friendly People  7790250.0  \n",
       "4                           No comments  1657500.0  \n",
       "\n",
       "[5 rows x 23 columns]"
      ]
     },
     "execution_count": 50,
     "metadata": {},
     "output_type": "execute_result"
    }
   ],
   "source": [
    "train_features.head()"
   ]
  },
  {
   "cell_type": "code",
   "execution_count": 51,
   "metadata": {},
   "outputs": [
    {
     "data": {
      "text/html": [
       "<div>\n",
       "<style scoped>\n",
       "    .dataframe tbody tr th:only-of-type {\n",
       "        vertical-align: middle;\n",
       "    }\n",
       "\n",
       "    .dataframe tbody tr th {\n",
       "        vertical-align: top;\n",
       "    }\n",
       "\n",
       "    .dataframe thead th {\n",
       "        text-align: right;\n",
       "    }\n",
       "</style>\n",
       "<table border=\"1\" class=\"dataframe\">\n",
       "  <thead>\n",
       "    <tr style=\"text-align: right;\">\n",
       "      <th></th>\n",
       "      <th>Column Name</th>\n",
       "      <th>Definition</th>\n",
       "    </tr>\n",
       "  </thead>\n",
       "  <tbody>\n",
       "    <tr>\n",
       "      <th>0</th>\n",
       "      <td>id</td>\n",
       "      <td>Unique identifier for each tourist</td>\n",
       "    </tr>\n",
       "    <tr>\n",
       "      <th>1</th>\n",
       "      <td>country</td>\n",
       "      <td>The country a tourist coming  from.</td>\n",
       "    </tr>\n",
       "    <tr>\n",
       "      <th>2</th>\n",
       "      <td>age_group</td>\n",
       "      <td>The age group of a tourist.</td>\n",
       "    </tr>\n",
       "    <tr>\n",
       "      <th>3</th>\n",
       "      <td>travel_with</td>\n",
       "      <td>The relation of people a tourist travel with t...</td>\n",
       "    </tr>\n",
       "    <tr>\n",
       "      <th>4</th>\n",
       "      <td>total_female</td>\n",
       "      <td>Total number of females</td>\n",
       "    </tr>\n",
       "    <tr>\n",
       "      <th>5</th>\n",
       "      <td>total_male</td>\n",
       "      <td>Total number of males</td>\n",
       "    </tr>\n",
       "    <tr>\n",
       "      <th>6</th>\n",
       "      <td>purpose</td>\n",
       "      <td>The purpose of visiting  Tanzania</td>\n",
       "    </tr>\n",
       "    <tr>\n",
       "      <th>7</th>\n",
       "      <td>main_activity</td>\n",
       "      <td>The main activity of tourism in Tanzania</td>\n",
       "    </tr>\n",
       "    <tr>\n",
       "      <th>8</th>\n",
       "      <td>infor_source</td>\n",
       "      <td>The source of information about tourism in Tan...</td>\n",
       "    </tr>\n",
       "    <tr>\n",
       "      <th>9</th>\n",
       "      <td>tour_arrangment</td>\n",
       "      <td>The arrangment of visiting Tanzania</td>\n",
       "    </tr>\n",
       "    <tr>\n",
       "      <th>10</th>\n",
       "      <td>package_transport_int</td>\n",
       "      <td>If the tour package include international tran...</td>\n",
       "    </tr>\n",
       "    <tr>\n",
       "      <th>11</th>\n",
       "      <td>package_accomodation</td>\n",
       "      <td>If the tour package include accommodation service</td>\n",
       "    </tr>\n",
       "    <tr>\n",
       "      <th>12</th>\n",
       "      <td>package_food</td>\n",
       "      <td>If the tour package include food service</td>\n",
       "    </tr>\n",
       "    <tr>\n",
       "      <th>13</th>\n",
       "      <td>package_transport_tz</td>\n",
       "      <td>If the tour package include transport service ...</td>\n",
       "    </tr>\n",
       "    <tr>\n",
       "      <th>14</th>\n",
       "      <td>package_sightseeing</td>\n",
       "      <td>If the tour package include sightseeing service</td>\n",
       "    </tr>\n",
       "    <tr>\n",
       "      <th>15</th>\n",
       "      <td>package_guided_tour</td>\n",
       "      <td>If the tour package include tour guide</td>\n",
       "    </tr>\n",
       "    <tr>\n",
       "      <th>16</th>\n",
       "      <td>package_insurance</td>\n",
       "      <td>if the tour package include insurance service</td>\n",
       "    </tr>\n",
       "    <tr>\n",
       "      <th>17</th>\n",
       "      <td>night_mainland</td>\n",
       "      <td>Number of nights a tourist spent in Tanzania m...</td>\n",
       "    </tr>\n",
       "    <tr>\n",
       "      <th>18</th>\n",
       "      <td>night_zanzibar</td>\n",
       "      <td>Number of nights a tourist spent in Zanzibar</td>\n",
       "    </tr>\n",
       "    <tr>\n",
       "      <th>19</th>\n",
       "      <td>payment_mode</td>\n",
       "      <td>The mode of payment for tourism service</td>\n",
       "    </tr>\n",
       "    <tr>\n",
       "      <th>20</th>\n",
       "      <td>first_trip_tz</td>\n",
       "      <td>If it was a first  trip to Tanzania</td>\n",
       "    </tr>\n",
       "    <tr>\n",
       "      <th>21</th>\n",
       "      <td>most_impressing</td>\n",
       "      <td>what impressed a toursit in Tanzania</td>\n",
       "    </tr>\n",
       "    <tr>\n",
       "      <th>22</th>\n",
       "      <td>total_cost</td>\n",
       "      <td>The total tourist expenditure  in TZS(currency)</td>\n",
       "    </tr>\n",
       "  </tbody>\n",
       "</table>\n",
       "</div>"
      ],
      "text/plain": [
       "              Column Name                                         Definition\n",
       "0                      id                 Unique identifier for each tourist\n",
       "1                 country                The country a tourist coming  from.\n",
       "2               age_group                        The age group of a tourist.\n",
       "3             travel_with  The relation of people a tourist travel with t...\n",
       "4            total_female                            Total number of females\n",
       "5              total_male                              Total number of males\n",
       "6                 purpose                  The purpose of visiting  Tanzania\n",
       "7           main_activity           The main activity of tourism in Tanzania\n",
       "8            infor_source  The source of information about tourism in Tan...\n",
       "9         tour_arrangment                The arrangment of visiting Tanzania\n",
       "10  package_transport_int  If the tour package include international tran...\n",
       "11   package_accomodation  If the tour package include accommodation service\n",
       "12           package_food           If the tour package include food service\n",
       "13   package_transport_tz  If the tour package include transport service ...\n",
       "14    package_sightseeing    If the tour package include sightseeing service\n",
       "15    package_guided_tour             If the tour package include tour guide\n",
       "16      package_insurance      if the tour package include insurance service\n",
       "17         night_mainland  Number of nights a tourist spent in Tanzania m...\n",
       "18         night_zanzibar       Number of nights a tourist spent in Zanzibar\n",
       "19           payment_mode            The mode of payment for tourism service\n",
       "20          first_trip_tz                If it was a first  trip to Tanzania\n",
       "21        most_impressing               what impressed a toursit in Tanzania\n",
       "22             total_cost    The total tourist expenditure  in TZS(currency)"
      ]
     },
     "execution_count": 51,
     "metadata": {},
     "output_type": "execute_result"
    }
   ],
   "source": [
    "variable_features"
   ]
  },
  {
   "cell_type": "code",
   "execution_count": 52,
   "metadata": {},
   "outputs": [
    {
     "data": {
      "text/plain": [
       "ID                          0\n",
       "country                     0\n",
       "age_group                   0\n",
       "travel_with              1114\n",
       "total_female                3\n",
       "total_male                  5\n",
       "purpose                     0\n",
       "main_activity               0\n",
       "info_source                 0\n",
       "tour_arrangement            0\n",
       "package_transport_int       0\n",
       "package_accomodation        0\n",
       "package_food                0\n",
       "package_transport_tz        0\n",
       "package_sightseeing         0\n",
       "package_guided_tour         0\n",
       "package_insurance           0\n",
       "night_mainland              0\n",
       "night_zanzibar              0\n",
       "payment_mode                0\n",
       "first_trip_tz               0\n",
       "most_impressing           313\n",
       "total_cost                  0\n",
       "dtype: int64"
      ]
     },
     "execution_count": 52,
     "metadata": {},
     "output_type": "execute_result"
    }
   ],
   "source": [
    "train_features.isnull().sum()"
   ]
  },
  {
   "cell_type": "code",
   "execution_count": 53,
   "metadata": {},
   "outputs": [
    {
     "data": {
      "text/plain": [
       "0"
      ]
     },
     "execution_count": 53,
     "metadata": {},
     "output_type": "execute_result"
    }
   ],
   "source": [
    "train_features.duplicated().sum()\n"
   ]
  },
  {
   "cell_type": "code",
   "execution_count": 54,
   "metadata": {},
   "outputs": [
    {
     "name": "stdout",
     "output_type": "stream",
     "text": [
      "<class 'pandas.core.frame.DataFrame'>\n",
      "RangeIndex: 4809 entries, 0 to 4808\n",
      "Data columns (total 23 columns):\n",
      " #   Column                 Non-Null Count  Dtype  \n",
      "---  ------                 --------------  -----  \n",
      " 0   ID                     4809 non-null   object \n",
      " 1   country                4809 non-null   object \n",
      " 2   age_group              4809 non-null   object \n",
      " 3   travel_with            3695 non-null   object \n",
      " 4   total_female           4806 non-null   float64\n",
      " 5   total_male             4804 non-null   float64\n",
      " 6   purpose                4809 non-null   object \n",
      " 7   main_activity          4809 non-null   object \n",
      " 8   info_source            4809 non-null   object \n",
      " 9   tour_arrangement       4809 non-null   object \n",
      " 10  package_transport_int  4809 non-null   object \n",
      " 11  package_accomodation   4809 non-null   object \n",
      " 12  package_food           4809 non-null   object \n",
      " 13  package_transport_tz   4809 non-null   object \n",
      " 14  package_sightseeing    4809 non-null   object \n",
      " 15  package_guided_tour    4809 non-null   object \n",
      " 16  package_insurance      4809 non-null   object \n",
      " 17  night_mainland         4809 non-null   float64\n",
      " 18  night_zanzibar         4809 non-null   float64\n",
      " 19  payment_mode           4809 non-null   object \n",
      " 20  first_trip_tz          4809 non-null   object \n",
      " 21  most_impressing        4496 non-null   object \n",
      " 22  total_cost             4809 non-null   float64\n",
      "dtypes: float64(5), object(18)\n",
      "memory usage: 864.2+ KB\n"
     ]
    }
   ],
   "source": [
    "train_features.info()"
   ]
  },
  {
   "cell_type": "code",
   "execution_count": 55,
   "metadata": {},
   "outputs": [
    {
     "data": {
      "text/plain": [
       "array(['45-64', '25-44', '1-24', '65+'], dtype=object)"
      ]
     },
     "execution_count": 55,
     "metadata": {},
     "output_type": "execute_result"
    }
   ],
   "source": [
    "train_features[\"age_group\"].unique()"
   ]
  },
  {
   "cell_type": "code",
   "execution_count": 56,
   "metadata": {},
   "outputs": [
    {
     "data": {
      "text/plain": [
       "Index(['ID', 'country', 'age_group', 'travel_with', 'total_female',\n",
       "       'total_male', 'purpose', 'main_activity', 'info_source',\n",
       "       'tour_arrangement', 'package_transport_int', 'package_accomodation',\n",
       "       'package_food', 'package_transport_tz', 'package_sightseeing',\n",
       "       'package_guided_tour', 'package_insurance', 'night_mainland',\n",
       "       'night_zanzibar', 'payment_mode', 'first_trip_tz', 'most_impressing',\n",
       "       'total_cost'],\n",
       "      dtype='object')"
      ]
     },
     "execution_count": 56,
     "metadata": {},
     "output_type": "execute_result"
    }
   ],
   "source": [
    "train_features.columns.unique()"
   ]
  },
  {
   "cell_type": "code",
   "execution_count": 57,
   "metadata": {},
   "outputs": [
    {
     "name": "stdout",
     "output_type": "stream",
     "text": [
      "unique: ID                       [tour_0, tour_10, tour_1000, tour_1002, tour_1...\n",
      "country                  [SWIZERLAND, UNITED KINGDOM, CHINA, SOUTH AFRI...\n",
      "age_group                                        [45-64, 25-44, 1-24, 65+]\n",
      "travel_with              [Friends/Relatives, nan, Alone, Spouse, Childr...\n",
      "total_female             [1.0, 0.0, 2.0, 4.0, 3.0, 5.0, 12.0, 10.0, 6.0...\n",
      "total_male               [1.0, 0.0, 2.0, 3.0, 4.0, 5.0, 6.0, nan, 15.0,...\n",
      "purpose                  [Leisure and Holidays, Visiting Friends and Re...\n",
      "main_activity            [Wildlife tourism, Cultural tourism, Mountain ...\n",
      "info_source              [Friends, relatives, others, Travel, agent, to...\n",
      "tour_arrangement                               [Independent, Package Tour]\n",
      "package_transport_int                                            [No, Yes]\n",
      "package_accomodation                                             [No, Yes]\n",
      "package_food                                                     [No, Yes]\n",
      "package_transport_tz                                             [No, Yes]\n",
      "package_sightseeing                                              [No, Yes]\n",
      "package_guided_tour                                              [No, Yes]\n",
      "package_insurance                                                [No, Yes]\n",
      "night_mainland           [13.0, 14.0, 1.0, 11.0, 7.0, 9.0, 10.0, 4.0, 5...\n",
      "night_zanzibar           [0.0, 7.0, 31.0, 4.0, 3.0, 2.0, 11.0, 6.0, 5.0...\n",
      "payment_mode                 [Cash, Credit Card, Other, Travellers Cheque]\n",
      "first_trip_tz                                                    [No, Yes]\n",
      "most_impressing          [Friendly People, Wonderful Country, Landscape...\n",
      "total_cost               [674602.5, 3214906.5, 3315000.0, 7790250.0, 16...\n",
      "dtype: object\n"
     ]
    }
   ],
   "source": [
    "unique_values = train_features.apply(lambda col: col.unique())\n",
    "print('unique:',unique_values)"
   ]
  },
  {
   "cell_type": "code",
   "execution_count": 58,
   "metadata": {},
   "outputs": [],
   "source": [
    "unique_values.to_csv('data/unique_Value_train_features.csv')"
   ]
  },
  {
   "cell_type": "code",
   "execution_count": 59,
   "metadata": {},
   "outputs": [
    {
     "data": {
      "text/plain": [
       "(4809, 23)"
      ]
     },
     "execution_count": 59,
     "metadata": {},
     "output_type": "execute_result"
    }
   ],
   "source": [
    "train_features.shape"
   ]
  },
  {
   "cell_type": "code",
   "execution_count": 60,
   "metadata": {},
   "outputs": [
    {
     "data": {
      "text/plain": [
       "49.0"
      ]
     },
     "execution_count": 60,
     "metadata": {},
     "output_type": "execute_result"
    }
   ],
   "source": [
    "train_features['total_female'].max()"
   ]
  },
  {
   "cell_type": "code",
   "execution_count": 61,
   "metadata": {},
   "outputs": [
    {
     "data": {
      "text/plain": [
       "1.0"
      ]
     },
     "execution_count": 61,
     "metadata": {},
     "output_type": "execute_result"
    }
   ],
   "source": [
    "train_features['total_female'].mean().round()"
   ]
  },
  {
   "cell_type": "code",
   "execution_count": 62,
   "metadata": {},
   "outputs": [],
   "source": [
    "train_features['total_female'].fillna(round(train_features['total_female'].mean()), inplace=True)"
   ]
  },
  {
   "cell_type": "code",
   "execution_count": 63,
   "metadata": {},
   "outputs": [
    {
     "data": {
      "text/plain": [
       "0"
      ]
     },
     "execution_count": 63,
     "metadata": {},
     "output_type": "execute_result"
    }
   ],
   "source": [
    "train_features['total_female']\n",
    "train_features['total_female'].isnull().sum()"
   ]
  },
  {
   "cell_type": "code",
   "execution_count": 64,
   "metadata": {},
   "outputs": [
    {
     "data": {
      "text/plain": [
       "0"
      ]
     },
     "execution_count": 64,
     "metadata": {},
     "output_type": "execute_result"
    }
   ],
   "source": [
    "train_features['total_male'].fillna(round(train_features['total_male'].mean()), inplace=True)\n",
    "train_features['total_male'].isnull().sum()"
   ]
  },
  {
   "cell_type": "code",
   "execution_count": 65,
   "metadata": {},
   "outputs": [
    {
     "data": {
      "image/png": "[encoded data removed]",
      "text/plain": [
       "<Figure size 640x480 with 1 Axes>"
      ]
     },
     "metadata": {},
     "output_type": "display_data"
    }
   ],
   "source": [
    "#travel_with\n",
    "sns.histplot(train_features.travel_with)\n",
    "plt.show()"
   ]
  },
  {
   "cell_type": "code",
   "execution_count": 66,
   "metadata": {},
   "outputs": [
    {
     "data": {
      "image/png": "[encoded data removed]",
      "text/plain": [
       "<Figure size 640x480 with 1 Axes>"
      ]
     },
     "metadata": {},
     "output_type": "display_data"
    }
   ],
   "source": [
    "#most_impressing\n",
    "sns.histplot(train_features.most_impressing)\n",
    "plt.show()"
   ]
  },
  {
   "cell_type": "code",
   "execution_count": null,
   "metadata": {},
   "outputs": [],
   "source": [
    "#most_impressing\n",
    "sns.histplot(train_features.most_impressing)\n",
    "plt.show()"
   ]
  }
 ],
 "metadata": {
  "kernelspec": {
   "display_name": ".venv",
   "language": "python",
   "name": "python3"
  },
  "language_info": {
   "codemirror_mode": {
    "name": "ipython",
    "version": 3
   },
   "file_extension": ".py",
   "mimetype": "text/x-python",
   "name": "python",
   "nbconvert_exporter": "python",
   "pygments_lexer": "ipython3",
   "version": "3.11.3"
  }
 },
 "nbformat": 4,
 "nbformat_minor": 4
}
